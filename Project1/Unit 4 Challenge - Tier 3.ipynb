{
 "cells": [
  {
   "cell_type": "markdown",
   "metadata": {
    "colab_type": "text",
    "id": "Tia3MP1SJpgj"
   },
   "source": [
    "# Springboard Data Science Career Track Unit 4 Challenge - Tier 3 Complete\n",
    "\n",
    "## Objectives\n",
    "Hey! Great job getting through those challenging DataCamp courses. You're learning a lot in a short span of time. \n",
    "\n",
    "In this notebook, you're going to apply the skills you've been learning, bridging the gap between the controlled environment of DataCamp and the *slightly* messier work that data scientists do with actual datasets!\n",
    "\n",
    "Here’s the mystery we’re going to solve: ***which boroughs of London have seen the greatest increase in housing prices, on average, over the last two decades?***\n",
    "\n",
    "\n",
    "A borough is just a fancy word for district. You may be familiar with the five boroughs of New York… well, there are 32 boroughs within Greater London [(here's some info for the curious)](https://en.wikipedia.org/wiki/London_boroughs). Some of them are more desirable areas to live in, and the data will reflect that with a greater rise in housing prices.\n",
    "\n",
    "***This is the Tier 3 notebook, which means it's not filled in at all: we'll just give you the skeleton of a project, the brief and the data. It's up to you to play around with it and see what you can find out! Good luck! If you struggle, feel free to look at easier tiers for help; but try to dip in and out of them, as the more independent work you do, the better it is for your learning!***\n",
    "\n",
    "This challenge will make use of only what you learned in the following DataCamp courses: \n",
    "- Prework courses (Introduction to Python for Data Science, Intermediate Python for Data Science)\n",
    "- Data Types for Data Science\n",
    "- Python Data Science Toolbox (Part One) \n",
    "- pandas Foundations\n",
    "- Manipulating DataFrames with pandas\n",
    "- Merging DataFrames with pandas\n",
    "\n",
    "Of the tools, techniques and concepts in the above DataCamp courses, this challenge should require the application of the following: \n",
    "- **pandas**\n",
    "    - **data ingestion and inspection** (pandas Foundations, Module One) \n",
    "    - **exploratory data analysis** (pandas Foundations, Module Two)\n",
    "    - **tidying and cleaning** (Manipulating DataFrames with pandas, Module Three) \n",
    "    - **transforming DataFrames** (Manipulating DataFrames with pandas, Module One)\n",
    "    - **subsetting DataFrames with lists** (Manipulating DataFrames with pandas, Module One) \n",
    "    - **filtering DataFrames** (Manipulating DataFrames with pandas, Module One) \n",
    "    - **grouping data** (Manipulating DataFrames with pandas, Module Four) \n",
    "    - **melting data** (Manipulating DataFrames with pandas, Module Three) \n",
    "    - **advanced indexing** (Manipulating DataFrames with pandas, Module Four) \n",
    "- **matplotlib** (Intermediate Python for Data Science, Module One)\n",
    "- **fundamental data types** (Data Types for Data Science, Module One) \n",
    "- **dictionaries** (Intermediate Python for Data Science, Module Two)\n",
    "- **handling dates and times** (Data Types for Data Science, Module Four)\n",
    "- **function definition** (Python Data Science Toolbox - Part One, Module One)\n",
    "- **default arguments, variable length, and scope** (Python Data Science Toolbox - Part One, Module Two) \n",
    "- **lambda functions and error handling** (Python Data Science Toolbox - Part One, Module Four) "
   ]
  },
  {
   "cell_type": "markdown",
   "metadata": {
    "colab_type": "text",
    "id": "Ipgd2nV8Jpgl"
   },
   "source": [
    "## The Data Science Pipeline\n",
    "\n",
    "This is Tier Three, so we'll get you started. But after that, it's all in your hands! When you feel done with your investigations, look back over what you've accomplished, and prepare a quick presentation of your findings for the next mentor meeting. \n",
    "\n",
    "Data Science is magical. In this case study, you'll get to apply some complex machine learning algorithms. But as  [David Spiegelhalter](https://www.youtube.com/watch?v=oUs1uvsz0Ok) reminds us, there is no substitute for simply **taking a really, really good look at the data.** Sometimes, this is all we need to answer our question.\n",
    "\n",
    "Data Science projects generally adhere to the four stages of Data Science Pipeline:\n",
    "1. Sourcing and loading \n",
    "2. Cleaning, transforming, and visualizing \n",
    "3. Modeling \n",
    "4. Evaluating and concluding \n"
   ]
  },
  {
   "cell_type": "markdown",
   "metadata": {
    "colab_type": "text",
    "id": "zswDqbefJpgm"
   },
   "source": [
    "### 1. Sourcing and Loading \n",
    "\n",
    "Any Data Science project kicks off by importing  ***pandas***. The documentation of this wonderful library can be found [here](https://pandas.pydata.org/). As you've seen, pandas is conveniently connected to the [Numpy](http://www.numpy.org/) and [Matplotlib](https://matplotlib.org/) libraries. \n",
    "\n",
    "***Hint:*** This part of the data science pipeline will test those skills you acquired in the pandas Foundations course, Module One. "
   ]
  },
  {
   "cell_type": "markdown",
   "metadata": {
    "colab_type": "text",
    "id": "aEau5nEvJpgm"
   },
   "source": [
    "#### 1.1. Importing Libraries"
   ]
  },
  {
   "cell_type": "code",
   "execution_count": 1,
   "metadata": {
    "colab": {},
    "colab_type": "code",
    "id": "7Bt_Q_oPJpgn"
   },
   "outputs": [],
   "source": [
    "# Let's import the pandas, numpy libraries as pd, and np respectively. \n",
    "import numpy as np\n",
    "import pandas as pd\n",
    "\n",
    "# Load the pyplot collection of functions from matplotlib, as plt \n",
    "import matplotlib.pyplot as plt\n",
    "import seaborn as sns\n",
    "%matplotlib inline\n"
   ]
  },
  {
   "cell_type": "markdown",
   "metadata": {
    "colab_type": "text",
    "id": "koUrawxsJpgq"
   },
   "source": [
    "#### 1.2.  Loading the data\n",
    "Your data comes from the [London Datastore](https://data.london.gov.uk/): a free, open-source data-sharing portal for London-oriented datasets. "
   ]
  },
  {
   "cell_type": "code",
   "execution_count": 2,
   "metadata": {
    "colab": {},
    "colab_type": "code",
    "id": "AiLiD4v3Jpgr"
   },
   "outputs": [],
   "source": [
    "# First, make a variable called url_LondonHousePrices, and assign it the following link, enclosed in quotation-marks as a string:\n",
    "# https://data.london.gov.uk/download/uk-house-price-index/70ac0766-8902-4eb5-aab5-01951aaed773/UK%20House%20price%20index.xls\n",
    "\n",
    "url_LondonHousePrices = \"https://data.london.gov.uk/download/uk-house-price-index/70ac0766-8902-4eb5-aab5-01951aaed773/UK%20House%20price%20index.xls\"\n",
    "\n",
    "# The dataset we're interested in contains the Average prices of the houses, and is actually on a particular sheet of the Excel file. \n",
    "# As a result, we need to specify the sheet name in the read_excel() method.\n",
    "# Put this data into a variable called properties.  \n",
    "properties = pd.read_excel(url_LondonHousePrices, sheet_name='Average price', index_col= None)"
   ]
  },
  {
   "cell_type": "markdown",
   "metadata": {
    "colab_type": "text",
    "id": "POukEJXgJpgu"
   },
   "source": [
    "### 2. Cleaning, transforming, and visualizing\n",
    "This second stage is arguably the most important part of any Data Science project. The first thing to do is take a proper look at the data. Cleaning forms the majority of this stage, and can be done both before or after Transformation.\n",
    "\n",
    "The end goal of data cleaning is to have tidy data. When data is tidy: \n",
    "\n",
    "1. Each variable has a column.\n",
    "2. Each observation forms a row.\n",
    "\n",
    "Keep the end goal in mind as you move through this process, every step will take you closer. \n",
    "\n",
    "\n",
    "\n",
    "***Hint:*** This part of the data science pipeline should test those skills you acquired in: \n",
    "- Intermediate Python for data science, all modules.\n",
    "- pandas Foundations, all modules. \n",
    "- Manipulating DataFrames with pandas, all modules.\n",
    "- Data Types for Data Science, Module Four.\n",
    "- Python Data Science Toolbox - Part One, all modules"
   ]
  },
  {
   "cell_type": "markdown",
   "metadata": {
    "colab_type": "text",
    "id": "Te0Q548tnzZa"
   },
   "source": [
    "**2.1. Exploring your data** \n",
    "\n",
    "Think about your pandas functions for checking out a dataframe. "
   ]
  },
  {
   "cell_type": "code",
   "execution_count": 3,
   "metadata": {
    "colab": {},
    "colab_type": "code",
    "id": "Rxirxw_qoAJa"
   },
   "outputs": [
    {
     "data": {
      "text/html": [
       "<div>\n",
       "<style scoped>\n",
       "    .dataframe tbody tr th:only-of-type {\n",
       "        vertical-align: middle;\n",
       "    }\n",
       "\n",
       "    .dataframe tbody tr th {\n",
       "        vertical-align: top;\n",
       "    }\n",
       "\n",
       "    .dataframe thead th {\n",
       "        text-align: right;\n",
       "    }\n",
       "</style>\n",
       "<table border=\"1\" class=\"dataframe\">\n",
       "  <thead>\n",
       "    <tr style=\"text-align: right;\">\n",
       "      <th></th>\n",
       "      <th>Unnamed: 0</th>\n",
       "      <th>City of London</th>\n",
       "      <th>Barking &amp; Dagenham</th>\n",
       "      <th>Barnet</th>\n",
       "      <th>Bexley</th>\n",
       "      <th>Brent</th>\n",
       "      <th>Bromley</th>\n",
       "      <th>Camden</th>\n",
       "      <th>Croydon</th>\n",
       "      <th>Ealing</th>\n",
       "      <th>...</th>\n",
       "      <th>NORTH WEST</th>\n",
       "      <th>YORKS &amp; THE HUMBER</th>\n",
       "      <th>EAST MIDLANDS</th>\n",
       "      <th>WEST MIDLANDS</th>\n",
       "      <th>EAST OF ENGLAND</th>\n",
       "      <th>LONDON</th>\n",
       "      <th>SOUTH EAST</th>\n",
       "      <th>SOUTH WEST</th>\n",
       "      <th>Unnamed: 47</th>\n",
       "      <th>England</th>\n",
       "    </tr>\n",
       "  </thead>\n",
       "  <tbody>\n",
       "    <tr>\n",
       "      <th>0</th>\n",
       "      <td>NaT</td>\n",
       "      <td>E09000001</td>\n",
       "      <td>E09000002</td>\n",
       "      <td>E09000003</td>\n",
       "      <td>E09000004</td>\n",
       "      <td>E09000005</td>\n",
       "      <td>E09000006</td>\n",
       "      <td>E09000007</td>\n",
       "      <td>E09000008</td>\n",
       "      <td>E09000009</td>\n",
       "      <td>...</td>\n",
       "      <td>E12000002</td>\n",
       "      <td>E12000003</td>\n",
       "      <td>E12000004</td>\n",
       "      <td>E12000005</td>\n",
       "      <td>E12000006</td>\n",
       "      <td>E12000007</td>\n",
       "      <td>E12000008</td>\n",
       "      <td>E12000009</td>\n",
       "      <td>NaN</td>\n",
       "      <td>E92000001</td>\n",
       "    </tr>\n",
       "    <tr>\n",
       "      <th>1</th>\n",
       "      <td>1995-01-01</td>\n",
       "      <td>91449</td>\n",
       "      <td>50460.2</td>\n",
       "      <td>93284.5</td>\n",
       "      <td>64958.1</td>\n",
       "      <td>71306.6</td>\n",
       "      <td>81671.5</td>\n",
       "      <td>120933</td>\n",
       "      <td>69158.2</td>\n",
       "      <td>79885.9</td>\n",
       "      <td>...</td>\n",
       "      <td>43958.5</td>\n",
       "      <td>44803.4</td>\n",
       "      <td>45544.5</td>\n",
       "      <td>48527.5</td>\n",
       "      <td>56701.6</td>\n",
       "      <td>74435.8</td>\n",
       "      <td>64018.9</td>\n",
       "      <td>54705.2</td>\n",
       "      <td>NaN</td>\n",
       "      <td>53202.8</td>\n",
       "    </tr>\n",
       "    <tr>\n",
       "      <th>2</th>\n",
       "      <td>1995-02-01</td>\n",
       "      <td>82202.8</td>\n",
       "      <td>51085.8</td>\n",
       "      <td>93190.2</td>\n",
       "      <td>64787.9</td>\n",
       "      <td>72022.3</td>\n",
       "      <td>81657.6</td>\n",
       "      <td>119509</td>\n",
       "      <td>68951.1</td>\n",
       "      <td>80897.1</td>\n",
       "      <td>...</td>\n",
       "      <td>43925.4</td>\n",
       "      <td>44528.8</td>\n",
       "      <td>46051.6</td>\n",
       "      <td>49341.3</td>\n",
       "      <td>56593.6</td>\n",
       "      <td>72777.9</td>\n",
       "      <td>63715</td>\n",
       "      <td>54356.1</td>\n",
       "      <td>NaN</td>\n",
       "      <td>53096.2</td>\n",
       "    </tr>\n",
       "    <tr>\n",
       "      <th>3</th>\n",
       "      <td>1995-03-01</td>\n",
       "      <td>79120.7</td>\n",
       "      <td>51269</td>\n",
       "      <td>92247.5</td>\n",
       "      <td>64367.5</td>\n",
       "      <td>72015.8</td>\n",
       "      <td>81449.3</td>\n",
       "      <td>120282</td>\n",
       "      <td>68712.4</td>\n",
       "      <td>81379.9</td>\n",
       "      <td>...</td>\n",
       "      <td>44434.9</td>\n",
       "      <td>45200.5</td>\n",
       "      <td>45383.8</td>\n",
       "      <td>49442.2</td>\n",
       "      <td>56171.2</td>\n",
       "      <td>73896.8</td>\n",
       "      <td>64113.6</td>\n",
       "      <td>53583.1</td>\n",
       "      <td>NaN</td>\n",
       "      <td>53201.3</td>\n",
       "    </tr>\n",
       "    <tr>\n",
       "      <th>4</th>\n",
       "      <td>1995-04-01</td>\n",
       "      <td>77101.2</td>\n",
       "      <td>53133.5</td>\n",
       "      <td>90762.9</td>\n",
       "      <td>64277.7</td>\n",
       "      <td>72965.6</td>\n",
       "      <td>81124.4</td>\n",
       "      <td>120098</td>\n",
       "      <td>68610</td>\n",
       "      <td>82188.9</td>\n",
       "      <td>...</td>\n",
       "      <td>44267.8</td>\n",
       "      <td>45614.3</td>\n",
       "      <td>46124.2</td>\n",
       "      <td>49455.9</td>\n",
       "      <td>56567.9</td>\n",
       "      <td>74455.3</td>\n",
       "      <td>64623.2</td>\n",
       "      <td>54786</td>\n",
       "      <td>NaN</td>\n",
       "      <td>53590.9</td>\n",
       "    </tr>\n",
       "  </tbody>\n",
       "</table>\n",
       "<p>5 rows × 49 columns</p>\n",
       "</div>"
      ],
      "text/plain": [
       "  Unnamed: 0 City of London Barking & Dagenham     Barnet     Bexley  \\\n",
       "0        NaT      E09000001          E09000002  E09000003  E09000004   \n",
       "1 1995-01-01          91449            50460.2    93284.5    64958.1   \n",
       "2 1995-02-01        82202.8            51085.8    93190.2    64787.9   \n",
       "3 1995-03-01        79120.7              51269    92247.5    64367.5   \n",
       "4 1995-04-01        77101.2            53133.5    90762.9    64277.7   \n",
       "\n",
       "       Brent    Bromley     Camden    Croydon     Ealing  ... NORTH WEST  \\\n",
       "0  E09000005  E09000006  E09000007  E09000008  E09000009  ...  E12000002   \n",
       "1    71306.6    81671.5     120933    69158.2    79885.9  ...    43958.5   \n",
       "2    72022.3    81657.6     119509    68951.1    80897.1  ...    43925.4   \n",
       "3    72015.8    81449.3     120282    68712.4    81379.9  ...    44434.9   \n",
       "4    72965.6    81124.4     120098      68610    82188.9  ...    44267.8   \n",
       "\n",
       "  YORKS & THE HUMBER EAST MIDLANDS WEST MIDLANDS EAST OF ENGLAND     LONDON  \\\n",
       "0          E12000003     E12000004     E12000005       E12000006  E12000007   \n",
       "1            44803.4       45544.5       48527.5         56701.6    74435.8   \n",
       "2            44528.8       46051.6       49341.3         56593.6    72777.9   \n",
       "3            45200.5       45383.8       49442.2         56171.2    73896.8   \n",
       "4            45614.3       46124.2       49455.9         56567.9    74455.3   \n",
       "\n",
       "  SOUTH EAST SOUTH WEST Unnamed: 47    England  \n",
       "0  E12000008  E12000009         NaN  E92000001  \n",
       "1    64018.9    54705.2         NaN    53202.8  \n",
       "2      63715    54356.1         NaN    53096.2  \n",
       "3    64113.6    53583.1         NaN    53201.3  \n",
       "4    64623.2      54786         NaN    53590.9  \n",
       "\n",
       "[5 rows x 49 columns]"
      ]
     },
     "execution_count": 3,
     "metadata": {},
     "output_type": "execute_result"
    }
   ],
   "source": [
    "properties.head()"
   ]
  },
  {
   "cell_type": "code",
   "execution_count": 4,
   "metadata": {},
   "outputs": [
    {
     "data": {
      "text/html": [
       "<div>\n",
       "<style scoped>\n",
       "    .dataframe tbody tr th:only-of-type {\n",
       "        vertical-align: middle;\n",
       "    }\n",
       "\n",
       "    .dataframe tbody tr th {\n",
       "        vertical-align: top;\n",
       "    }\n",
       "\n",
       "    .dataframe thead th {\n",
       "        text-align: right;\n",
       "    }\n",
       "</style>\n",
       "<table border=\"1\" class=\"dataframe\">\n",
       "  <thead>\n",
       "    <tr style=\"text-align: right;\">\n",
       "      <th></th>\n",
       "      <th>Unnamed: 0</th>\n",
       "      <th>City of London</th>\n",
       "      <th>Barking &amp; Dagenham</th>\n",
       "      <th>Barnet</th>\n",
       "      <th>Bexley</th>\n",
       "      <th>Brent</th>\n",
       "      <th>Bromley</th>\n",
       "      <th>Camden</th>\n",
       "      <th>Croydon</th>\n",
       "      <th>Ealing</th>\n",
       "      <th>...</th>\n",
       "      <th>NORTH WEST</th>\n",
       "      <th>YORKS &amp; THE HUMBER</th>\n",
       "      <th>EAST MIDLANDS</th>\n",
       "      <th>WEST MIDLANDS</th>\n",
       "      <th>EAST OF ENGLAND</th>\n",
       "      <th>LONDON</th>\n",
       "      <th>SOUTH EAST</th>\n",
       "      <th>SOUTH WEST</th>\n",
       "      <th>Unnamed: 47</th>\n",
       "      <th>England</th>\n",
       "    </tr>\n",
       "  </thead>\n",
       "  <tbody>\n",
       "    <tr>\n",
       "      <th>300</th>\n",
       "      <td>2019-12-01</td>\n",
       "      <td>737275</td>\n",
       "      <td>301283</td>\n",
       "      <td>519306</td>\n",
       "      <td>336302</td>\n",
       "      <td>427126</td>\n",
       "      <td>438682</td>\n",
       "      <td>807124</td>\n",
       "      <td>369568</td>\n",
       "      <td>469662</td>\n",
       "      <td>...</td>\n",
       "      <td>164893</td>\n",
       "      <td>165818</td>\n",
       "      <td>194553</td>\n",
       "      <td>198644</td>\n",
       "      <td>290814</td>\n",
       "      <td>478576</td>\n",
       "      <td>321972</td>\n",
       "      <td>256577</td>\n",
       "      <td>NaN</td>\n",
       "      <td>248250</td>\n",
       "    </tr>\n",
       "    <tr>\n",
       "      <th>301</th>\n",
       "      <td>2020-01-01</td>\n",
       "      <td>747611</td>\n",
       "      <td>303653</td>\n",
       "      <td>518542</td>\n",
       "      <td>334765</td>\n",
       "      <td>423161</td>\n",
       "      <td>435532</td>\n",
       "      <td>815512</td>\n",
       "      <td>371227</td>\n",
       "      <td>466491</td>\n",
       "      <td>...</td>\n",
       "      <td>165094</td>\n",
       "      <td>164752</td>\n",
       "      <td>196199</td>\n",
       "      <td>202085</td>\n",
       "      <td>290335</td>\n",
       "      <td>478489</td>\n",
       "      <td>323422</td>\n",
       "      <td>257822</td>\n",
       "      <td>NaN</td>\n",
       "      <td>248950</td>\n",
       "    </tr>\n",
       "    <tr>\n",
       "      <th>302</th>\n",
       "      <td>2020-02-01</td>\n",
       "      <td>777640</td>\n",
       "      <td>304265</td>\n",
       "      <td>519121</td>\n",
       "      <td>337760</td>\n",
       "      <td>467145</td>\n",
       "      <td>435704</td>\n",
       "      <td>825249</td>\n",
       "      <td>371357</td>\n",
       "      <td>465614</td>\n",
       "      <td>...</td>\n",
       "      <td>166291</td>\n",
       "      <td>164949</td>\n",
       "      <td>194214</td>\n",
       "      <td>200196</td>\n",
       "      <td>290309</td>\n",
       "      <td>479628</td>\n",
       "      <td>319827</td>\n",
       "      <td>257101</td>\n",
       "      <td>NaN</td>\n",
       "      <td>248232</td>\n",
       "    </tr>\n",
       "    <tr>\n",
       "      <th>303</th>\n",
       "      <td>2020-03-01</td>\n",
       "      <td>844989</td>\n",
       "      <td>304099</td>\n",
       "      <td>527747</td>\n",
       "      <td>339215</td>\n",
       "      <td>461398</td>\n",
       "      <td>434625</td>\n",
       "      <td>870107</td>\n",
       "      <td>370872</td>\n",
       "      <td>478565</td>\n",
       "      <td>...</td>\n",
       "      <td>168161</td>\n",
       "      <td>165685</td>\n",
       "      <td>198284</td>\n",
       "      <td>201369</td>\n",
       "      <td>291356</td>\n",
       "      <td>488185</td>\n",
       "      <td>326701</td>\n",
       "      <td>262444</td>\n",
       "      <td>NaN</td>\n",
       "      <td>251539</td>\n",
       "    </tr>\n",
       "    <tr>\n",
       "      <th>304</th>\n",
       "      <td>2020-04-01</td>\n",
       "      <td>867841</td>\n",
       "      <td>283139</td>\n",
       "      <td>526553</td>\n",
       "      <td>346840</td>\n",
       "      <td>494455</td>\n",
       "      <td>443482</td>\n",
       "      <td>870627</td>\n",
       "      <td>386738</td>\n",
       "      <td>502107</td>\n",
       "      <td>...</td>\n",
       "      <td>167809</td>\n",
       "      <td>165561</td>\n",
       "      <td>200513</td>\n",
       "      <td>202093</td>\n",
       "      <td>295640</td>\n",
       "      <td>480425</td>\n",
       "      <td>327413</td>\n",
       "      <td>255891</td>\n",
       "      <td>NaN</td>\n",
       "      <td>250874</td>\n",
       "    </tr>\n",
       "  </tbody>\n",
       "</table>\n",
       "<p>5 rows × 49 columns</p>\n",
       "</div>"
      ],
      "text/plain": [
       "    Unnamed: 0 City of London Barking & Dagenham  Barnet  Bexley   Brent  \\\n",
       "300 2019-12-01         737275             301283  519306  336302  427126   \n",
       "301 2020-01-01         747611             303653  518542  334765  423161   \n",
       "302 2020-02-01         777640             304265  519121  337760  467145   \n",
       "303 2020-03-01         844989             304099  527747  339215  461398   \n",
       "304 2020-04-01         867841             283139  526553  346840  494455   \n",
       "\n",
       "    Bromley  Camden Croydon  Ealing  ... NORTH WEST YORKS & THE HUMBER  \\\n",
       "300  438682  807124  369568  469662  ...     164893             165818   \n",
       "301  435532  815512  371227  466491  ...     165094             164752   \n",
       "302  435704  825249  371357  465614  ...     166291             164949   \n",
       "303  434625  870107  370872  478565  ...     168161             165685   \n",
       "304  443482  870627  386738  502107  ...     167809             165561   \n",
       "\n",
       "    EAST MIDLANDS WEST MIDLANDS EAST OF ENGLAND  LONDON SOUTH EAST SOUTH WEST  \\\n",
       "300        194553        198644          290814  478576     321972     256577   \n",
       "301        196199        202085          290335  478489     323422     257822   \n",
       "302        194214        200196          290309  479628     319827     257101   \n",
       "303        198284        201369          291356  488185     326701     262444   \n",
       "304        200513        202093          295640  480425     327413     255891   \n",
       "\n",
       "    Unnamed: 47 England  \n",
       "300         NaN  248250  \n",
       "301         NaN  248950  \n",
       "302         NaN  248232  \n",
       "303         NaN  251539  \n",
       "304         NaN  250874  \n",
       "\n",
       "[5 rows x 49 columns]"
      ]
     },
     "execution_count": 4,
     "metadata": {},
     "output_type": "execute_result"
    }
   ],
   "source": [
    "properties.tail()"
   ]
  },
  {
   "cell_type": "code",
   "execution_count": 5,
   "metadata": {},
   "outputs": [
    {
     "data": {
      "text/plain": [
       "49"
      ]
     },
     "execution_count": 5,
     "metadata": {},
     "output_type": "execute_result"
    }
   ],
   "source": [
    "len(properties.columns)"
   ]
  },
  {
   "cell_type": "code",
   "execution_count": 6,
   "metadata": {},
   "outputs": [
    {
     "name": "stdout",
     "output_type": "stream",
     "text": [
      "<class 'pandas.core.frame.DataFrame'>\n",
      "RangeIndex: 305 entries, 0 to 304\n",
      "Data columns (total 49 columns):\n",
      " #   Column                Non-Null Count  Dtype         \n",
      "---  ------                --------------  -----         \n",
      " 0   Unnamed: 0            304 non-null    datetime64[ns]\n",
      " 1   City of London        305 non-null    object        \n",
      " 2   Barking & Dagenham    305 non-null    object        \n",
      " 3   Barnet                305 non-null    object        \n",
      " 4   Bexley                305 non-null    object        \n",
      " 5   Brent                 305 non-null    object        \n",
      " 6   Bromley               305 non-null    object        \n",
      " 7   Camden                305 non-null    object        \n",
      " 8   Croydon               305 non-null    object        \n",
      " 9   Ealing                305 non-null    object        \n",
      " 10  Enfield               305 non-null    object        \n",
      " 11  Greenwich             305 non-null    object        \n",
      " 12  Hackney               305 non-null    object        \n",
      " 13  Hammersmith & Fulham  305 non-null    object        \n",
      " 14  Haringey              305 non-null    object        \n",
      " 15  Harrow                305 non-null    object        \n",
      " 16  Havering              305 non-null    object        \n",
      " 17  Hillingdon            305 non-null    object        \n",
      " 18  Hounslow              305 non-null    object        \n",
      " 19  Islington             305 non-null    object        \n",
      " 20  Kensington & Chelsea  305 non-null    object        \n",
      " 21  Kingston upon Thames  305 non-null    object        \n",
      " 22  Lambeth               305 non-null    object        \n",
      " 23  Lewisham              305 non-null    object        \n",
      " 24  Merton                305 non-null    object        \n",
      " 25  Newham                305 non-null    object        \n",
      " 26  Redbridge             305 non-null    object        \n",
      " 27  Richmond upon Thames  305 non-null    object        \n",
      " 28  Southwark             305 non-null    object        \n",
      " 29  Sutton                305 non-null    object        \n",
      " 30  Tower Hamlets         305 non-null    object        \n",
      " 31  Waltham Forest        305 non-null    object        \n",
      " 32  Wandsworth            305 non-null    object        \n",
      " 33  Westminster           305 non-null    object        \n",
      " 34  Unnamed: 34           0 non-null      float64       \n",
      " 35  Inner London          305 non-null    object        \n",
      " 36  Outer London          305 non-null    object        \n",
      " 37  Unnamed: 37           0 non-null      float64       \n",
      " 38  NORTH EAST            305 non-null    object        \n",
      " 39  NORTH WEST            305 non-null    object        \n",
      " 40  YORKS & THE HUMBER    305 non-null    object        \n",
      " 41  EAST MIDLANDS         305 non-null    object        \n",
      " 42  WEST MIDLANDS         305 non-null    object        \n",
      " 43  EAST OF ENGLAND       305 non-null    object        \n",
      " 44  LONDON                305 non-null    object        \n",
      " 45  SOUTH EAST            305 non-null    object        \n",
      " 46  SOUTH WEST            305 non-null    object        \n",
      " 47  Unnamed: 47           0 non-null      float64       \n",
      " 48  England               305 non-null    object        \n",
      "dtypes: datetime64[ns](1), float64(3), object(45)\n",
      "memory usage: 116.9+ KB\n"
     ]
    }
   ],
   "source": [
    "properties.info()"
   ]
  },
  {
   "cell_type": "markdown",
   "metadata": {
    "colab_type": "text",
    "id": "tE9Sqt9-oAta"
   },
   "source": [
    "**2.2. Cleaning the data**\n",
    "\n",
    "You might find you need to transpose your dataframe, check out what its row indexes are, and reset the index. You  also might find you need to assign the values of the first row to your column headings  . (Hint: recall the .columns feature of DataFrames, as well as the iloc[] method).\n",
    "\n",
    "Don't be afraid to use StackOverflow for help  with this."
   ]
  },
  {
   "cell_type": "code",
   "execution_count": 7,
   "metadata": {
    "colab": {},
    "colab_type": "code",
    "id": "cdAu1A3YoH_r"
   },
   "outputs": [
    {
     "data": {
      "text/html": [
       "<div>\n",
       "<style scoped>\n",
       "    .dataframe tbody tr th:only-of-type {\n",
       "        vertical-align: middle;\n",
       "    }\n",
       "\n",
       "    .dataframe tbody tr th {\n",
       "        vertical-align: top;\n",
       "    }\n",
       "\n",
       "    .dataframe thead th {\n",
       "        text-align: right;\n",
       "    }\n",
       "</style>\n",
       "<table border=\"1\" class=\"dataframe\">\n",
       "  <thead>\n",
       "    <tr style=\"text-align: right;\">\n",
       "      <th></th>\n",
       "      <th>0</th>\n",
       "      <th>1</th>\n",
       "      <th>2</th>\n",
       "      <th>3</th>\n",
       "      <th>4</th>\n",
       "      <th>5</th>\n",
       "      <th>6</th>\n",
       "      <th>7</th>\n",
       "      <th>8</th>\n",
       "      <th>9</th>\n",
       "      <th>...</th>\n",
       "      <th>295</th>\n",
       "      <th>296</th>\n",
       "      <th>297</th>\n",
       "      <th>298</th>\n",
       "      <th>299</th>\n",
       "      <th>300</th>\n",
       "      <th>301</th>\n",
       "      <th>302</th>\n",
       "      <th>303</th>\n",
       "      <th>304</th>\n",
       "    </tr>\n",
       "  </thead>\n",
       "  <tbody>\n",
       "    <tr>\n",
       "      <th>Unnamed: 0</th>\n",
       "      <td>NaT</td>\n",
       "      <td>1995-01-01 00:00:00</td>\n",
       "      <td>1995-02-01 00:00:00</td>\n",
       "      <td>1995-03-01 00:00:00</td>\n",
       "      <td>1995-04-01 00:00:00</td>\n",
       "      <td>1995-05-01 00:00:00</td>\n",
       "      <td>1995-06-01 00:00:00</td>\n",
       "      <td>1995-07-01 00:00:00</td>\n",
       "      <td>1995-08-01 00:00:00</td>\n",
       "      <td>1995-09-01 00:00:00</td>\n",
       "      <td>...</td>\n",
       "      <td>2019-07-01 00:00:00</td>\n",
       "      <td>2019-08-01 00:00:00</td>\n",
       "      <td>2019-09-01 00:00:00</td>\n",
       "      <td>2019-10-01 00:00:00</td>\n",
       "      <td>2019-11-01 00:00:00</td>\n",
       "      <td>2019-12-01 00:00:00</td>\n",
       "      <td>2020-01-01 00:00:00</td>\n",
       "      <td>2020-02-01 00:00:00</td>\n",
       "      <td>2020-03-01 00:00:00</td>\n",
       "      <td>2020-04-01 00:00:00</td>\n",
       "    </tr>\n",
       "    <tr>\n",
       "      <th>City of London</th>\n",
       "      <td>E09000001</td>\n",
       "      <td>91449</td>\n",
       "      <td>82202.8</td>\n",
       "      <td>79120.7</td>\n",
       "      <td>77101.2</td>\n",
       "      <td>84409.1</td>\n",
       "      <td>94900.5</td>\n",
       "      <td>110128</td>\n",
       "      <td>112329</td>\n",
       "      <td>104473</td>\n",
       "      <td>...</td>\n",
       "      <td>756407</td>\n",
       "      <td>813770</td>\n",
       "      <td>810455</td>\n",
       "      <td>826227</td>\n",
       "      <td>776894</td>\n",
       "      <td>737275</td>\n",
       "      <td>747611</td>\n",
       "      <td>777640</td>\n",
       "      <td>844989</td>\n",
       "      <td>867841</td>\n",
       "    </tr>\n",
       "    <tr>\n",
       "      <th>Barking &amp; Dagenham</th>\n",
       "      <td>E09000002</td>\n",
       "      <td>50460.2</td>\n",
       "      <td>51085.8</td>\n",
       "      <td>51269</td>\n",
       "      <td>53133.5</td>\n",
       "      <td>53042.2</td>\n",
       "      <td>53700.3</td>\n",
       "      <td>52113.1</td>\n",
       "      <td>52232.2</td>\n",
       "      <td>51471.6</td>\n",
       "      <td>...</td>\n",
       "      <td>297426</td>\n",
       "      <td>299421</td>\n",
       "      <td>304778</td>\n",
       "      <td>304579</td>\n",
       "      <td>306390</td>\n",
       "      <td>301283</td>\n",
       "      <td>303653</td>\n",
       "      <td>304265</td>\n",
       "      <td>304099</td>\n",
       "      <td>283139</td>\n",
       "    </tr>\n",
       "    <tr>\n",
       "      <th>Barnet</th>\n",
       "      <td>E09000003</td>\n",
       "      <td>93284.5</td>\n",
       "      <td>93190.2</td>\n",
       "      <td>92247.5</td>\n",
       "      <td>90762.9</td>\n",
       "      <td>90258</td>\n",
       "      <td>90107.2</td>\n",
       "      <td>91441.2</td>\n",
       "      <td>92361.3</td>\n",
       "      <td>93273.1</td>\n",
       "      <td>...</td>\n",
       "      <td>514668</td>\n",
       "      <td>528577</td>\n",
       "      <td>526670</td>\n",
       "      <td>525678</td>\n",
       "      <td>522639</td>\n",
       "      <td>519306</td>\n",
       "      <td>518542</td>\n",
       "      <td>519121</td>\n",
       "      <td>527747</td>\n",
       "      <td>526553</td>\n",
       "    </tr>\n",
       "    <tr>\n",
       "      <th>Bexley</th>\n",
       "      <td>E09000004</td>\n",
       "      <td>64958.1</td>\n",
       "      <td>64787.9</td>\n",
       "      <td>64367.5</td>\n",
       "      <td>64277.7</td>\n",
       "      <td>63997.1</td>\n",
       "      <td>64252.3</td>\n",
       "      <td>63722.7</td>\n",
       "      <td>64432.6</td>\n",
       "      <td>64509.5</td>\n",
       "      <td>...</td>\n",
       "      <td>338346</td>\n",
       "      <td>337523</td>\n",
       "      <td>333340</td>\n",
       "      <td>332920</td>\n",
       "      <td>333657</td>\n",
       "      <td>336302</td>\n",
       "      <td>334765</td>\n",
       "      <td>337760</td>\n",
       "      <td>339215</td>\n",
       "      <td>346840</td>\n",
       "    </tr>\n",
       "  </tbody>\n",
       "</table>\n",
       "<p>5 rows × 305 columns</p>\n",
       "</div>"
      ],
      "text/plain": [
       "                          0                    1                    2    \\\n",
       "Unnamed: 0                NaT  1995-01-01 00:00:00  1995-02-01 00:00:00   \n",
       "City of London      E09000001                91449              82202.8   \n",
       "Barking & Dagenham  E09000002              50460.2              51085.8   \n",
       "Barnet              E09000003              93284.5              93190.2   \n",
       "Bexley              E09000004              64958.1              64787.9   \n",
       "\n",
       "                                    3                    4    \\\n",
       "Unnamed: 0          1995-03-01 00:00:00  1995-04-01 00:00:00   \n",
       "City of London                  79120.7              77101.2   \n",
       "Barking & Dagenham                51269              53133.5   \n",
       "Barnet                          92247.5              90762.9   \n",
       "Bexley                          64367.5              64277.7   \n",
       "\n",
       "                                    5                    6    \\\n",
       "Unnamed: 0          1995-05-01 00:00:00  1995-06-01 00:00:00   \n",
       "City of London                  84409.1              94900.5   \n",
       "Barking & Dagenham              53042.2              53700.3   \n",
       "Barnet                            90258              90107.2   \n",
       "Bexley                          63997.1              64252.3   \n",
       "\n",
       "                                    7                    8    \\\n",
       "Unnamed: 0          1995-07-01 00:00:00  1995-08-01 00:00:00   \n",
       "City of London                   110128               112329   \n",
       "Barking & Dagenham              52113.1              52232.2   \n",
       "Barnet                          91441.2              92361.3   \n",
       "Bexley                          63722.7              64432.6   \n",
       "\n",
       "                                    9    ...                  295  \\\n",
       "Unnamed: 0          1995-09-01 00:00:00  ...  2019-07-01 00:00:00   \n",
       "City of London                   104473  ...               756407   \n",
       "Barking & Dagenham              51471.6  ...               297426   \n",
       "Barnet                          93273.1  ...               514668   \n",
       "Bexley                          64509.5  ...               338346   \n",
       "\n",
       "                                    296                  297  \\\n",
       "Unnamed: 0          2019-08-01 00:00:00  2019-09-01 00:00:00   \n",
       "City of London                   813770               810455   \n",
       "Barking & Dagenham               299421               304778   \n",
       "Barnet                           528577               526670   \n",
       "Bexley                           337523               333340   \n",
       "\n",
       "                                    298                  299  \\\n",
       "Unnamed: 0          2019-10-01 00:00:00  2019-11-01 00:00:00   \n",
       "City of London                   826227               776894   \n",
       "Barking & Dagenham               304579               306390   \n",
       "Barnet                           525678               522639   \n",
       "Bexley                           332920               333657   \n",
       "\n",
       "                                    300                  301  \\\n",
       "Unnamed: 0          2019-12-01 00:00:00  2020-01-01 00:00:00   \n",
       "City of London                   737275               747611   \n",
       "Barking & Dagenham               301283               303653   \n",
       "Barnet                           519306               518542   \n",
       "Bexley                           336302               334765   \n",
       "\n",
       "                                    302                  303  \\\n",
       "Unnamed: 0          2020-02-01 00:00:00  2020-03-01 00:00:00   \n",
       "City of London                   777640               844989   \n",
       "Barking & Dagenham               304265               304099   \n",
       "Barnet                           519121               527747   \n",
       "Bexley                           337760               339215   \n",
       "\n",
       "                                    304  \n",
       "Unnamed: 0          2020-04-01 00:00:00  \n",
       "City of London                   867841  \n",
       "Barking & Dagenham               283139  \n",
       "Barnet                           526553  \n",
       "Bexley                           346840  \n",
       "\n",
       "[5 rows x 305 columns]"
      ]
     },
     "execution_count": 7,
     "metadata": {},
     "output_type": "execute_result"
    }
   ],
   "source": [
    "properties_t = properties.transpose()\n",
    "properties_t.head()"
   ]
  },
  {
   "cell_type": "code",
   "execution_count": 8,
   "metadata": {},
   "outputs": [
    {
     "data": {
      "text/plain": [
       "Index(['Unnamed: 0', 'City of London', 'Barking & Dagenham', 'Barnet',\n",
       "       'Bexley', 'Brent', 'Bromley', 'Camden', 'Croydon', 'Ealing', 'Enfield',\n",
       "       'Greenwich', 'Hackney', 'Hammersmith & Fulham', 'Haringey', 'Harrow',\n",
       "       'Havering', 'Hillingdon', 'Hounslow', 'Islington',\n",
       "       'Kensington & Chelsea', 'Kingston upon Thames', 'Lambeth', 'Lewisham',\n",
       "       'Merton', 'Newham', 'Redbridge', 'Richmond upon Thames', 'Southwark',\n",
       "       'Sutton', 'Tower Hamlets', 'Waltham Forest', 'Wandsworth',\n",
       "       'Westminster', 'Unnamed: 34', 'Inner London', 'Outer London',\n",
       "       'Unnamed: 37', 'NORTH EAST', 'NORTH WEST', 'YORKS & THE HUMBER',\n",
       "       'EAST MIDLANDS', 'WEST MIDLANDS', 'EAST OF ENGLAND', 'LONDON',\n",
       "       'SOUTH EAST', 'SOUTH WEST', 'Unnamed: 47', 'England'],\n",
       "      dtype='object')"
      ]
     },
     "execution_count": 8,
     "metadata": {},
     "output_type": "execute_result"
    }
   ],
   "source": [
    "# Checking the index of the transposed DataFrame\n",
    "properties_t.index"
   ]
  },
  {
   "cell_type": "code",
   "execution_count": 9,
   "metadata": {},
   "outputs": [
    {
     "data": {
      "text/plain": [
       "RangeIndex(start=0, stop=305, step=1)"
      ]
     },
     "execution_count": 9,
     "metadata": {},
     "output_type": "execute_result"
    }
   ],
   "source": [
    "# Reseting the index\n",
    "properties_t.reset_index(inplace=True)\n",
    "properties.index"
   ]
  },
  {
   "cell_type": "code",
   "execution_count": 10,
   "metadata": {},
   "outputs": [
    {
     "data": {
      "text/html": [
       "<div>\n",
       "<style scoped>\n",
       "    .dataframe tbody tr th:only-of-type {\n",
       "        vertical-align: middle;\n",
       "    }\n",
       "\n",
       "    .dataframe tbody tr th {\n",
       "        vertical-align: top;\n",
       "    }\n",
       "\n",
       "    .dataframe thead th {\n",
       "        text-align: right;\n",
       "    }\n",
       "</style>\n",
       "<table border=\"1\" class=\"dataframe\">\n",
       "  <thead>\n",
       "    <tr style=\"text-align: right;\">\n",
       "      <th></th>\n",
       "      <th>index</th>\n",
       "      <th>0</th>\n",
       "      <th>1</th>\n",
       "      <th>2</th>\n",
       "      <th>3</th>\n",
       "      <th>4</th>\n",
       "      <th>5</th>\n",
       "      <th>6</th>\n",
       "      <th>7</th>\n",
       "      <th>8</th>\n",
       "      <th>...</th>\n",
       "      <th>295</th>\n",
       "      <th>296</th>\n",
       "      <th>297</th>\n",
       "      <th>298</th>\n",
       "      <th>299</th>\n",
       "      <th>300</th>\n",
       "      <th>301</th>\n",
       "      <th>302</th>\n",
       "      <th>303</th>\n",
       "      <th>304</th>\n",
       "    </tr>\n",
       "  </thead>\n",
       "  <tbody>\n",
       "    <tr>\n",
       "      <th>0</th>\n",
       "      <td>Unnamed: 0</td>\n",
       "      <td>NaT</td>\n",
       "      <td>1995-01-01 00:00:00</td>\n",
       "      <td>1995-02-01 00:00:00</td>\n",
       "      <td>1995-03-01 00:00:00</td>\n",
       "      <td>1995-04-01 00:00:00</td>\n",
       "      <td>1995-05-01 00:00:00</td>\n",
       "      <td>1995-06-01 00:00:00</td>\n",
       "      <td>1995-07-01 00:00:00</td>\n",
       "      <td>1995-08-01 00:00:00</td>\n",
       "      <td>...</td>\n",
       "      <td>2019-07-01 00:00:00</td>\n",
       "      <td>2019-08-01 00:00:00</td>\n",
       "      <td>2019-09-01 00:00:00</td>\n",
       "      <td>2019-10-01 00:00:00</td>\n",
       "      <td>2019-11-01 00:00:00</td>\n",
       "      <td>2019-12-01 00:00:00</td>\n",
       "      <td>2020-01-01 00:00:00</td>\n",
       "      <td>2020-02-01 00:00:00</td>\n",
       "      <td>2020-03-01 00:00:00</td>\n",
       "      <td>2020-04-01 00:00:00</td>\n",
       "    </tr>\n",
       "    <tr>\n",
       "      <th>1</th>\n",
       "      <td>City of London</td>\n",
       "      <td>E09000001</td>\n",
       "      <td>91449</td>\n",
       "      <td>82202.8</td>\n",
       "      <td>79120.7</td>\n",
       "      <td>77101.2</td>\n",
       "      <td>84409.1</td>\n",
       "      <td>94900.5</td>\n",
       "      <td>110128</td>\n",
       "      <td>112329</td>\n",
       "      <td>...</td>\n",
       "      <td>756407</td>\n",
       "      <td>813770</td>\n",
       "      <td>810455</td>\n",
       "      <td>826227</td>\n",
       "      <td>776894</td>\n",
       "      <td>737275</td>\n",
       "      <td>747611</td>\n",
       "      <td>777640</td>\n",
       "      <td>844989</td>\n",
       "      <td>867841</td>\n",
       "    </tr>\n",
       "  </tbody>\n",
       "</table>\n",
       "<p>2 rows × 306 columns</p>\n",
       "</div>"
      ],
      "text/plain": [
       "            index          0                    1                    2  \\\n",
       "0      Unnamed: 0        NaT  1995-01-01 00:00:00  1995-02-01 00:00:00   \n",
       "1  City of London  E09000001                91449              82202.8   \n",
       "\n",
       "                     3                    4                    5  \\\n",
       "0  1995-03-01 00:00:00  1995-04-01 00:00:00  1995-05-01 00:00:00   \n",
       "1              79120.7              77101.2              84409.1   \n",
       "\n",
       "                     6                    7                    8  ...  \\\n",
       "0  1995-06-01 00:00:00  1995-07-01 00:00:00  1995-08-01 00:00:00  ...   \n",
       "1              94900.5               110128               112329  ...   \n",
       "\n",
       "                   295                  296                  297  \\\n",
       "0  2019-07-01 00:00:00  2019-08-01 00:00:00  2019-09-01 00:00:00   \n",
       "1               756407               813770               810455   \n",
       "\n",
       "                   298                  299                  300  \\\n",
       "0  2019-10-01 00:00:00  2019-11-01 00:00:00  2019-12-01 00:00:00   \n",
       "1               826227               776894               737275   \n",
       "\n",
       "                   301                  302                  303  \\\n",
       "0  2020-01-01 00:00:00  2020-02-01 00:00:00  2020-03-01 00:00:00   \n",
       "1               747611               777640               844989   \n",
       "\n",
       "                   304  \n",
       "0  2020-04-01 00:00:00  \n",
       "1               867841  \n",
       "\n",
       "[2 rows x 306 columns]"
      ]
     },
     "execution_count": 10,
     "metadata": {},
     "output_type": "execute_result"
    }
   ],
   "source": [
    "properties_t.head(2)"
   ]
  },
  {
   "cell_type": "code",
   "execution_count": 11,
   "metadata": {},
   "outputs": [
    {
     "data": {
      "text/html": [
       "<div>\n",
       "<style scoped>\n",
       "    .dataframe tbody tr th:only-of-type {\n",
       "        vertical-align: middle;\n",
       "    }\n",
       "\n",
       "    .dataframe tbody tr th {\n",
       "        vertical-align: top;\n",
       "    }\n",
       "\n",
       "    .dataframe thead th {\n",
       "        text-align: right;\n",
       "    }\n",
       "</style>\n",
       "<table border=\"1\" class=\"dataframe\">\n",
       "  <thead>\n",
       "    <tr style=\"text-align: right;\">\n",
       "      <th></th>\n",
       "      <th>Unnamed: 0</th>\n",
       "      <th>NaN</th>\n",
       "      <th>1995-01-01 00:00:00</th>\n",
       "      <th>1995-02-01 00:00:00</th>\n",
       "      <th>1995-03-01 00:00:00</th>\n",
       "      <th>1995-04-01 00:00:00</th>\n",
       "      <th>1995-05-01 00:00:00</th>\n",
       "      <th>1995-06-01 00:00:00</th>\n",
       "      <th>1995-07-01 00:00:00</th>\n",
       "      <th>1995-08-01 00:00:00</th>\n",
       "      <th>...</th>\n",
       "      <th>2019-07-01 00:00:00</th>\n",
       "      <th>2019-08-01 00:00:00</th>\n",
       "      <th>2019-09-01 00:00:00</th>\n",
       "      <th>2019-10-01 00:00:00</th>\n",
       "      <th>2019-11-01 00:00:00</th>\n",
       "      <th>2019-12-01 00:00:00</th>\n",
       "      <th>2020-01-01 00:00:00</th>\n",
       "      <th>2020-02-01 00:00:00</th>\n",
       "      <th>2020-03-01 00:00:00</th>\n",
       "      <th>2020-04-01 00:00:00</th>\n",
       "    </tr>\n",
       "  </thead>\n",
       "  <tbody>\n",
       "    <tr>\n",
       "      <th>0</th>\n",
       "      <td>Unnamed: 0</td>\n",
       "      <td>NaT</td>\n",
       "      <td>1995-01-01 00:00:00</td>\n",
       "      <td>1995-02-01 00:00:00</td>\n",
       "      <td>1995-03-01 00:00:00</td>\n",
       "      <td>1995-04-01 00:00:00</td>\n",
       "      <td>1995-05-01 00:00:00</td>\n",
       "      <td>1995-06-01 00:00:00</td>\n",
       "      <td>1995-07-01 00:00:00</td>\n",
       "      <td>1995-08-01 00:00:00</td>\n",
       "      <td>...</td>\n",
       "      <td>2019-07-01 00:00:00</td>\n",
       "      <td>2019-08-01 00:00:00</td>\n",
       "      <td>2019-09-01 00:00:00</td>\n",
       "      <td>2019-10-01 00:00:00</td>\n",
       "      <td>2019-11-01 00:00:00</td>\n",
       "      <td>2019-12-01 00:00:00</td>\n",
       "      <td>2020-01-01 00:00:00</td>\n",
       "      <td>2020-02-01 00:00:00</td>\n",
       "      <td>2020-03-01 00:00:00</td>\n",
       "      <td>2020-04-01 00:00:00</td>\n",
       "    </tr>\n",
       "    <tr>\n",
       "      <th>1</th>\n",
       "      <td>City of London</td>\n",
       "      <td>E09000001</td>\n",
       "      <td>91449</td>\n",
       "      <td>82202.8</td>\n",
       "      <td>79120.7</td>\n",
       "      <td>77101.2</td>\n",
       "      <td>84409.1</td>\n",
       "      <td>94900.5</td>\n",
       "      <td>110128</td>\n",
       "      <td>112329</td>\n",
       "      <td>...</td>\n",
       "      <td>756407</td>\n",
       "      <td>813770</td>\n",
       "      <td>810455</td>\n",
       "      <td>826227</td>\n",
       "      <td>776894</td>\n",
       "      <td>737275</td>\n",
       "      <td>747611</td>\n",
       "      <td>777640</td>\n",
       "      <td>844989</td>\n",
       "      <td>867841</td>\n",
       "    </tr>\n",
       "  </tbody>\n",
       "</table>\n",
       "<p>2 rows × 306 columns</p>\n",
       "</div>"
      ],
      "text/plain": [
       "0      Unnamed: 0        NaN  1995-01-01 00:00:00  1995-02-01 00:00:00  \\\n",
       "0      Unnamed: 0        NaT  1995-01-01 00:00:00  1995-02-01 00:00:00   \n",
       "1  City of London  E09000001                91449              82202.8   \n",
       "\n",
       "0  1995-03-01 00:00:00  1995-04-01 00:00:00  1995-05-01 00:00:00  \\\n",
       "0  1995-03-01 00:00:00  1995-04-01 00:00:00  1995-05-01 00:00:00   \n",
       "1              79120.7              77101.2              84409.1   \n",
       "\n",
       "0  1995-06-01 00:00:00  1995-07-01 00:00:00  1995-08-01 00:00:00  ...  \\\n",
       "0  1995-06-01 00:00:00  1995-07-01 00:00:00  1995-08-01 00:00:00  ...   \n",
       "1              94900.5               110128               112329  ...   \n",
       "\n",
       "0  2019-07-01 00:00:00  2019-08-01 00:00:00  2019-09-01 00:00:00  \\\n",
       "0  2019-07-01 00:00:00  2019-08-01 00:00:00  2019-09-01 00:00:00   \n",
       "1               756407               813770               810455   \n",
       "\n",
       "0  2019-10-01 00:00:00  2019-11-01 00:00:00  2019-12-01 00:00:00  \\\n",
       "0  2019-10-01 00:00:00  2019-11-01 00:00:00  2019-12-01 00:00:00   \n",
       "1               826227               776894               737275   \n",
       "\n",
       "0  2020-01-01 00:00:00  2020-02-01 00:00:00  2020-03-01 00:00:00  \\\n",
       "0  2020-01-01 00:00:00  2020-02-01 00:00:00  2020-03-01 00:00:00   \n",
       "1               747611               777640               844989   \n",
       "\n",
       "0  2020-04-01 00:00:00  \n",
       "0  2020-04-01 00:00:00  \n",
       "1               867841  \n",
       "\n",
       "[2 rows x 306 columns]"
      ]
     },
     "execution_count": 11,
     "metadata": {},
     "output_type": "execute_result"
    }
   ],
   "source": [
    "# Assigning the values of the first row to the column headings\n",
    "properties_t.columns = properties_t.iloc[0]\n",
    "properties_t.head(2)"
   ]
  },
  {
   "cell_type": "code",
   "execution_count": 12,
   "metadata": {},
   "outputs": [],
   "source": [
    "# Droping the first row labeled by the index[0], which is replicated as a result of the previous step\n",
    "properties_t.drop(properties_t.index[0], inplace=True)"
   ]
  },
  {
   "cell_type": "code",
   "execution_count": 13,
   "metadata": {},
   "outputs": [
    {
     "data": {
      "text/html": [
       "<div>\n",
       "<style scoped>\n",
       "    .dataframe tbody tr th:only-of-type {\n",
       "        vertical-align: middle;\n",
       "    }\n",
       "\n",
       "    .dataframe tbody tr th {\n",
       "        vertical-align: top;\n",
       "    }\n",
       "\n",
       "    .dataframe thead th {\n",
       "        text-align: right;\n",
       "    }\n",
       "</style>\n",
       "<table border=\"1\" class=\"dataframe\">\n",
       "  <thead>\n",
       "    <tr style=\"text-align: right;\">\n",
       "      <th></th>\n",
       "      <th>Unnamed: 0</th>\n",
       "      <th>NaN</th>\n",
       "      <th>1995-01-01 00:00:00</th>\n",
       "      <th>1995-02-01 00:00:00</th>\n",
       "      <th>1995-03-01 00:00:00</th>\n",
       "      <th>1995-04-01 00:00:00</th>\n",
       "      <th>1995-05-01 00:00:00</th>\n",
       "      <th>1995-06-01 00:00:00</th>\n",
       "      <th>1995-07-01 00:00:00</th>\n",
       "      <th>1995-08-01 00:00:00</th>\n",
       "      <th>...</th>\n",
       "      <th>2019-07-01 00:00:00</th>\n",
       "      <th>2019-08-01 00:00:00</th>\n",
       "      <th>2019-09-01 00:00:00</th>\n",
       "      <th>2019-10-01 00:00:00</th>\n",
       "      <th>2019-11-01 00:00:00</th>\n",
       "      <th>2019-12-01 00:00:00</th>\n",
       "      <th>2020-01-01 00:00:00</th>\n",
       "      <th>2020-02-01 00:00:00</th>\n",
       "      <th>2020-03-01 00:00:00</th>\n",
       "      <th>2020-04-01 00:00:00</th>\n",
       "    </tr>\n",
       "  </thead>\n",
       "  <tbody>\n",
       "    <tr>\n",
       "      <th>1</th>\n",
       "      <td>City of London</td>\n",
       "      <td>E09000001</td>\n",
       "      <td>91449</td>\n",
       "      <td>82202.8</td>\n",
       "      <td>79120.7</td>\n",
       "      <td>77101.2</td>\n",
       "      <td>84409.1</td>\n",
       "      <td>94900.5</td>\n",
       "      <td>110128</td>\n",
       "      <td>112329</td>\n",
       "      <td>...</td>\n",
       "      <td>756407</td>\n",
       "      <td>813770</td>\n",
       "      <td>810455</td>\n",
       "      <td>826227</td>\n",
       "      <td>776894</td>\n",
       "      <td>737275</td>\n",
       "      <td>747611</td>\n",
       "      <td>777640</td>\n",
       "      <td>844989</td>\n",
       "      <td>867841</td>\n",
       "    </tr>\n",
       "    <tr>\n",
       "      <th>2</th>\n",
       "      <td>Barking &amp; Dagenham</td>\n",
       "      <td>E09000002</td>\n",
       "      <td>50460.2</td>\n",
       "      <td>51085.8</td>\n",
       "      <td>51269</td>\n",
       "      <td>53133.5</td>\n",
       "      <td>53042.2</td>\n",
       "      <td>53700.3</td>\n",
       "      <td>52113.1</td>\n",
       "      <td>52232.2</td>\n",
       "      <td>...</td>\n",
       "      <td>297426</td>\n",
       "      <td>299421</td>\n",
       "      <td>304778</td>\n",
       "      <td>304579</td>\n",
       "      <td>306390</td>\n",
       "      <td>301283</td>\n",
       "      <td>303653</td>\n",
       "      <td>304265</td>\n",
       "      <td>304099</td>\n",
       "      <td>283139</td>\n",
       "    </tr>\n",
       "  </tbody>\n",
       "</table>\n",
       "<p>2 rows × 306 columns</p>\n",
       "</div>"
      ],
      "text/plain": [
       "0          Unnamed: 0        NaN 1995-01-01 00:00:00 1995-02-01 00:00:00  \\\n",
       "1      City of London  E09000001               91449             82202.8   \n",
       "2  Barking & Dagenham  E09000002             50460.2             51085.8   \n",
       "\n",
       "0 1995-03-01 00:00:00 1995-04-01 00:00:00 1995-05-01 00:00:00  \\\n",
       "1             79120.7             77101.2             84409.1   \n",
       "2               51269             53133.5             53042.2   \n",
       "\n",
       "0 1995-06-01 00:00:00 1995-07-01 00:00:00 1995-08-01 00:00:00  ...  \\\n",
       "1             94900.5              110128              112329  ...   \n",
       "2             53700.3             52113.1             52232.2  ...   \n",
       "\n",
       "0 2019-07-01 00:00:00 2019-08-01 00:00:00 2019-09-01 00:00:00  \\\n",
       "1              756407              813770              810455   \n",
       "2              297426              299421              304778   \n",
       "\n",
       "0 2019-10-01 00:00:00 2019-11-01 00:00:00 2019-12-01 00:00:00  \\\n",
       "1              826227              776894              737275   \n",
       "2              304579              306390              301283   \n",
       "\n",
       "0 2020-01-01 00:00:00 2020-02-01 00:00:00 2020-03-01 00:00:00  \\\n",
       "1              747611              777640              844989   \n",
       "2              303653              304265              304099   \n",
       "\n",
       "0 2020-04-01 00:00:00  \n",
       "1              867841  \n",
       "2              283139  \n",
       "\n",
       "[2 rows x 306 columns]"
      ]
     },
     "execution_count": 13,
     "metadata": {},
     "output_type": "execute_result"
    }
   ],
   "source": [
    "properties_t.head(2)"
   ]
  },
  {
   "cell_type": "markdown",
   "metadata": {
    "colab_type": "text",
    "id": "o1uLbJAsoIjK"
   },
   "source": [
    "**2.3. Cleaning the data (part 2)**\n",
    "\n",
    "You might we have to **rename** a couple columns. How do you do this? The clue's pretty bold..."
   ]
  },
  {
   "cell_type": "code",
   "execution_count": 14,
   "metadata": {},
   "outputs": [
    {
     "data": {
      "text/plain": [
       "pandas._libs.tslibs.nattype.NaTType"
      ]
     },
     "execution_count": 14,
     "metadata": {},
     "output_type": "execute_result"
    }
   ],
   "source": [
    "type(properties_t.columns[1])"
   ]
  },
  {
   "cell_type": "code",
   "execution_count": 15,
   "metadata": {},
   "outputs": [
    {
     "data": {
      "text/html": [
       "<div>\n",
       "<style scoped>\n",
       "    .dataframe tbody tr th:only-of-type {\n",
       "        vertical-align: middle;\n",
       "    }\n",
       "\n",
       "    .dataframe tbody tr th {\n",
       "        vertical-align: top;\n",
       "    }\n",
       "\n",
       "    .dataframe thead th {\n",
       "        text-align: right;\n",
       "    }\n",
       "</style>\n",
       "<table border=\"1\" class=\"dataframe\">\n",
       "  <thead>\n",
       "    <tr style=\"text-align: right;\">\n",
       "      <th></th>\n",
       "      <th>London_Borough</th>\n",
       "      <th>ID</th>\n",
       "      <th>1995-01-01 00:00:00</th>\n",
       "      <th>1995-02-01 00:00:00</th>\n",
       "      <th>1995-03-01 00:00:00</th>\n",
       "      <th>1995-04-01 00:00:00</th>\n",
       "      <th>1995-05-01 00:00:00</th>\n",
       "      <th>1995-06-01 00:00:00</th>\n",
       "      <th>1995-07-01 00:00:00</th>\n",
       "      <th>1995-08-01 00:00:00</th>\n",
       "      <th>...</th>\n",
       "      <th>2019-07-01 00:00:00</th>\n",
       "      <th>2019-08-01 00:00:00</th>\n",
       "      <th>2019-09-01 00:00:00</th>\n",
       "      <th>2019-10-01 00:00:00</th>\n",
       "      <th>2019-11-01 00:00:00</th>\n",
       "      <th>2019-12-01 00:00:00</th>\n",
       "      <th>2020-01-01 00:00:00</th>\n",
       "      <th>2020-02-01 00:00:00</th>\n",
       "      <th>2020-03-01 00:00:00</th>\n",
       "      <th>2020-04-01 00:00:00</th>\n",
       "    </tr>\n",
       "  </thead>\n",
       "  <tbody>\n",
       "    <tr>\n",
       "      <th>1</th>\n",
       "      <td>City of London</td>\n",
       "      <td>E09000001</td>\n",
       "      <td>91449</td>\n",
       "      <td>82202.8</td>\n",
       "      <td>79120.7</td>\n",
       "      <td>77101.2</td>\n",
       "      <td>84409.1</td>\n",
       "      <td>94900.5</td>\n",
       "      <td>110128</td>\n",
       "      <td>112329</td>\n",
       "      <td>...</td>\n",
       "      <td>756407</td>\n",
       "      <td>813770</td>\n",
       "      <td>810455</td>\n",
       "      <td>826227</td>\n",
       "      <td>776894</td>\n",
       "      <td>737275</td>\n",
       "      <td>747611</td>\n",
       "      <td>777640</td>\n",
       "      <td>844989</td>\n",
       "      <td>867841</td>\n",
       "    </tr>\n",
       "    <tr>\n",
       "      <th>2</th>\n",
       "      <td>Barking &amp; Dagenham</td>\n",
       "      <td>E09000002</td>\n",
       "      <td>50460.2</td>\n",
       "      <td>51085.8</td>\n",
       "      <td>51269</td>\n",
       "      <td>53133.5</td>\n",
       "      <td>53042.2</td>\n",
       "      <td>53700.3</td>\n",
       "      <td>52113.1</td>\n",
       "      <td>52232.2</td>\n",
       "      <td>...</td>\n",
       "      <td>297426</td>\n",
       "      <td>299421</td>\n",
       "      <td>304778</td>\n",
       "      <td>304579</td>\n",
       "      <td>306390</td>\n",
       "      <td>301283</td>\n",
       "      <td>303653</td>\n",
       "      <td>304265</td>\n",
       "      <td>304099</td>\n",
       "      <td>283139</td>\n",
       "    </tr>\n",
       "  </tbody>\n",
       "</table>\n",
       "<p>2 rows × 306 columns</p>\n",
       "</div>"
      ],
      "text/plain": [
       "0      London_Borough         ID 1995-01-01 00:00:00 1995-02-01 00:00:00  \\\n",
       "1      City of London  E09000001               91449             82202.8   \n",
       "2  Barking & Dagenham  E09000002             50460.2             51085.8   \n",
       "\n",
       "0 1995-03-01 00:00:00 1995-04-01 00:00:00 1995-05-01 00:00:00  \\\n",
       "1             79120.7             77101.2             84409.1   \n",
       "2               51269             53133.5             53042.2   \n",
       "\n",
       "0 1995-06-01 00:00:00 1995-07-01 00:00:00 1995-08-01 00:00:00  ...  \\\n",
       "1             94900.5              110128              112329  ...   \n",
       "2             53700.3             52113.1             52232.2  ...   \n",
       "\n",
       "0 2019-07-01 00:00:00 2019-08-01 00:00:00 2019-09-01 00:00:00  \\\n",
       "1              756407              813770              810455   \n",
       "2              297426              299421              304778   \n",
       "\n",
       "0 2019-10-01 00:00:00 2019-11-01 00:00:00 2019-12-01 00:00:00  \\\n",
       "1              826227              776894              737275   \n",
       "2              304579              306390              301283   \n",
       "\n",
       "0 2020-01-01 00:00:00 2020-02-01 00:00:00 2020-03-01 00:00:00  \\\n",
       "1              747611              777640              844989   \n",
       "2              303653              304265              304099   \n",
       "\n",
       "0 2020-04-01 00:00:00  \n",
       "1              867841  \n",
       "2              283139  \n",
       "\n",
       "[2 rows x 306 columns]"
      ]
     },
     "execution_count": 15,
     "metadata": {},
     "output_type": "execute_result"
    }
   ],
   "source": [
    "# Renaming some columns \n",
    "properties_t.rename(columns= {'Unnamed: 0' : 'London_Borough', properties_t.columns[1] : 'ID'}, inplace=True)\n",
    "properties_t.head(2)"
   ]
  },
  {
   "cell_type": "code",
   "execution_count": 16,
   "metadata": {},
   "outputs": [
    {
     "name": "stdout",
     "output_type": "stream",
     "text": [
      "The number of Boroughs in the data set is: 46, where it should be 32 Boroughs\n"
     ]
    }
   ],
   "source": [
    "# Checking the count of London boroughs based on the unique IDs\n",
    "boroughs_count = len(properties_t['ID'].unique())\n",
    "print(f'The number of Boroughs in the data set is: {boroughs_count}, where it should be 32 Boroughs')"
   ]
  },
  {
   "cell_type": "markdown",
   "metadata": {},
   "source": [
    "**There is an issue. We need to focus only on the 32 London boroughs, will back to this issue later!**"
   ]
  },
  {
   "cell_type": "markdown",
   "metadata": {
    "colab_type": "text",
    "id": "jy8BzXHmoWEw"
   },
   "source": [
    "**2.4.Transforming the data**\n",
    "\n",
    "Remember what Wes McKinney said about tidy data? \n",
    "\n",
    "You might need to **melt** your DataFrame here. "
   ]
  },
  {
   "cell_type": "code",
   "execution_count": 17,
   "metadata": {
    "colab": {},
    "colab_type": "code",
    "id": "S2wM0qLuo2Zt"
   },
   "outputs": [
    {
     "data": {
      "text/html": [
       "<div>\n",
       "<style scoped>\n",
       "    .dataframe tbody tr th:only-of-type {\n",
       "        vertical-align: middle;\n",
       "    }\n",
       "\n",
       "    .dataframe tbody tr th {\n",
       "        vertical-align: top;\n",
       "    }\n",
       "\n",
       "    .dataframe thead th {\n",
       "        text-align: right;\n",
       "    }\n",
       "</style>\n",
       "<table border=\"1\" class=\"dataframe\">\n",
       "  <thead>\n",
       "    <tr style=\"text-align: right;\">\n",
       "      <th></th>\n",
       "      <th>London_Borough</th>\n",
       "      <th>ID</th>\n",
       "      <th>0</th>\n",
       "      <th>value</th>\n",
       "    </tr>\n",
       "  </thead>\n",
       "  <tbody>\n",
       "    <tr>\n",
       "      <th>0</th>\n",
       "      <td>City of London</td>\n",
       "      <td>E09000001</td>\n",
       "      <td>1995-01-01</td>\n",
       "      <td>91449</td>\n",
       "    </tr>\n",
       "    <tr>\n",
       "      <th>1</th>\n",
       "      <td>Barking &amp; Dagenham</td>\n",
       "      <td>E09000002</td>\n",
       "      <td>1995-01-01</td>\n",
       "      <td>50460.2</td>\n",
       "    </tr>\n",
       "    <tr>\n",
       "      <th>2</th>\n",
       "      <td>Barnet</td>\n",
       "      <td>E09000003</td>\n",
       "      <td>1995-01-01</td>\n",
       "      <td>93284.5</td>\n",
       "    </tr>\n",
       "    <tr>\n",
       "      <th>3</th>\n",
       "      <td>Bexley</td>\n",
       "      <td>E09000004</td>\n",
       "      <td>1995-01-01</td>\n",
       "      <td>64958.1</td>\n",
       "    </tr>\n",
       "    <tr>\n",
       "      <th>4</th>\n",
       "      <td>Brent</td>\n",
       "      <td>E09000005</td>\n",
       "      <td>1995-01-01</td>\n",
       "      <td>71306.6</td>\n",
       "    </tr>\n",
       "  </tbody>\n",
       "</table>\n",
       "</div>"
      ],
      "text/plain": [
       "       London_Borough         ID          0    value\n",
       "0      City of London  E09000001 1995-01-01    91449\n",
       "1  Barking & Dagenham  E09000002 1995-01-01  50460.2\n",
       "2              Barnet  E09000003 1995-01-01  93284.5\n",
       "3              Bexley  E09000004 1995-01-01  64958.1\n",
       "4               Brent  E09000005 1995-01-01  71306.6"
      ]
     },
     "execution_count": 17,
     "metadata": {},
     "output_type": "execute_result"
    }
   ],
   "source": [
    "# Transforming the DataFrame from wide format to long format using pd.melt()\n",
    "properties_clean = pd.melt(properties_t, id_vars= ['London_Borough', 'ID'])\n",
    "properties_clean.head()"
   ]
  },
  {
   "cell_type": "code",
   "execution_count": 18,
   "metadata": {},
   "outputs": [
    {
     "data": {
      "text/html": [
       "<div>\n",
       "<style scoped>\n",
       "    .dataframe tbody tr th:only-of-type {\n",
       "        vertical-align: middle;\n",
       "    }\n",
       "\n",
       "    .dataframe tbody tr th {\n",
       "        vertical-align: top;\n",
       "    }\n",
       "\n",
       "    .dataframe thead th {\n",
       "        text-align: right;\n",
       "    }\n",
       "</style>\n",
       "<table border=\"1\" class=\"dataframe\">\n",
       "  <thead>\n",
       "    <tr style=\"text-align: right;\">\n",
       "      <th></th>\n",
       "      <th>London_Borough</th>\n",
       "      <th>ID</th>\n",
       "      <th>0</th>\n",
       "      <th>value</th>\n",
       "    </tr>\n",
       "  </thead>\n",
       "  <tbody>\n",
       "    <tr>\n",
       "      <th>14587</th>\n",
       "      <td>LONDON</td>\n",
       "      <td>E12000007</td>\n",
       "      <td>2020-04-01</td>\n",
       "      <td>480425</td>\n",
       "    </tr>\n",
       "    <tr>\n",
       "      <th>14588</th>\n",
       "      <td>SOUTH EAST</td>\n",
       "      <td>E12000008</td>\n",
       "      <td>2020-04-01</td>\n",
       "      <td>327413</td>\n",
       "    </tr>\n",
       "    <tr>\n",
       "      <th>14589</th>\n",
       "      <td>SOUTH WEST</td>\n",
       "      <td>E12000009</td>\n",
       "      <td>2020-04-01</td>\n",
       "      <td>255891</td>\n",
       "    </tr>\n",
       "    <tr>\n",
       "      <th>14590</th>\n",
       "      <td>Unnamed: 47</td>\n",
       "      <td>NaN</td>\n",
       "      <td>2020-04-01</td>\n",
       "      <td>NaN</td>\n",
       "    </tr>\n",
       "    <tr>\n",
       "      <th>14591</th>\n",
       "      <td>England</td>\n",
       "      <td>E92000001</td>\n",
       "      <td>2020-04-01</td>\n",
       "      <td>250874</td>\n",
       "    </tr>\n",
       "  </tbody>\n",
       "</table>\n",
       "</div>"
      ],
      "text/plain": [
       "      London_Borough         ID          0   value\n",
       "14587         LONDON  E12000007 2020-04-01  480425\n",
       "14588     SOUTH EAST  E12000008 2020-04-01  327413\n",
       "14589     SOUTH WEST  E12000009 2020-04-01  255891\n",
       "14590    Unnamed: 47        NaN 2020-04-01     NaN\n",
       "14591        England  E92000001 2020-04-01  250874"
      ]
     },
     "execution_count": 18,
     "metadata": {},
     "output_type": "execute_result"
    }
   ],
   "source": [
    "properties_clean.tail()"
   ]
  },
  {
   "cell_type": "markdown",
   "metadata": {
    "colab_type": "text",
    "id": "7kIsgAo7o3mf"
   },
   "source": [
    "Remember to make sure your column data types are all correct. Average prices, for example, should be floating point numbers... "
   ]
  },
  {
   "cell_type": "code",
   "execution_count": 19,
   "metadata": {
    "colab": {},
    "colab_type": "code",
    "id": "ZcR4IHbcpOaq"
   },
   "outputs": [
    {
     "name": "stdout",
     "output_type": "stream",
     "text": [
      "<class 'pandas.core.frame.DataFrame'>\n",
      "RangeIndex: 14592 entries, 0 to 14591\n",
      "Data columns (total 4 columns):\n",
      " #   Column          Non-Null Count  Dtype         \n",
      "---  ------          --------------  -----         \n",
      " 0   London_Borough  14592 non-null  object        \n",
      " 1   ID              13680 non-null  object        \n",
      " 2   0               14592 non-null  datetime64[ns]\n",
      " 3   value           13680 non-null  object        \n",
      "dtypes: datetime64[ns](1), object(3)\n",
      "memory usage: 456.1+ KB\n"
     ]
    }
   ],
   "source": [
    "properties_clean.info()"
   ]
  },
  {
   "cell_type": "markdown",
   "metadata": {},
   "source": [
    "##### 2.4.1- Change the value column to an appropriate numeric format"
   ]
  },
  {
   "cell_type": "code",
   "execution_count": 20,
   "metadata": {},
   "outputs": [],
   "source": [
    "# Changing the value column to an appropriate numeric formt using pd.to_numeric()\n",
    "properties_clean['value'] = pd.to_numeric(properties_clean['value'])"
   ]
  },
  {
   "cell_type": "code",
   "execution_count": 21,
   "metadata": {},
   "outputs": [
    {
     "data": {
      "text/plain": [
       "London_Borough            object\n",
       "ID                        object\n",
       "0                 datetime64[ns]\n",
       "value                    float64\n",
       "dtype: object"
      ]
     },
     "execution_count": 21,
     "metadata": {},
     "output_type": "execute_result"
    }
   ],
   "source": [
    "# Checking the updated data types\n",
    "properties_clean.dtypes"
   ]
  },
  {
   "cell_type": "markdown",
   "metadata": {},
   "source": [
    "##### 2.4.2- Rename some columns"
   ]
  },
  {
   "cell_type": "code",
   "execution_count": 22,
   "metadata": {},
   "outputs": [],
   "source": [
    "properties_clean = properties_clean.rename(columns={0: 'Month', 'value': 'Average Price'})"
   ]
  },
  {
   "cell_type": "code",
   "execution_count": 23,
   "metadata": {},
   "outputs": [
    {
     "data": {
      "text/plain": [
       "Index(['London_Borough', 'ID', 'Month', 'Average Price'], dtype='object')"
      ]
     },
     "execution_count": 23,
     "metadata": {},
     "output_type": "execute_result"
    }
   ],
   "source": [
    "properties_clean.columns"
   ]
  },
  {
   "cell_type": "markdown",
   "metadata": {
    "colab_type": "text",
    "id": "knLUXHLypOtw"
   },
   "source": [
    "**2.5. Cleaning the data (part 3)**\n",
    "\n",
    "Do we have an equal number of observations in the ID, Average Price, Month, and London Borough columns? Remember that there are only 32 London Boroughs. How many entries do you have in that column? \n",
    "\n",
    "Check out the contents of the London Borough column, and if you find null values, get rid of them however you see fit. "
   ]
  },
  {
   "cell_type": "code",
   "execution_count": 24,
   "metadata": {
    "colab": {},
    "colab_type": "code",
    "id": "BnvTW5a3p0fC"
   },
   "outputs": [
    {
     "data": {
      "text/plain": [
       "London_Borough      0\n",
       "ID                912\n",
       "Month               0\n",
       "Average Price     912\n",
       "dtype: int64"
      ]
     },
     "execution_count": 24,
     "metadata": {},
     "output_type": "execute_result"
    }
   ],
   "source": [
    "# Checking columns with null values\n",
    "properties_clean.isnull().sum()"
   ]
  },
  {
   "cell_type": "code",
   "execution_count": 25,
   "metadata": {},
   "outputs": [],
   "source": [
    "# Droping rows with null values\n",
    "properties_clean = properties_clean.dropna()"
   ]
  },
  {
   "cell_type": "code",
   "execution_count": 26,
   "metadata": {},
   "outputs": [
    {
     "name": "stdout",
     "output_type": "stream",
     "text": [
      "The number of Boroughs should be 32 and we got 45\n"
     ]
    }
   ],
   "source": [
    "print(\"The number of Boroughs should be 32 and we got\", len(properties_clean.ID.unique()),)"
   ]
  },
  {
   "cell_type": "markdown",
   "metadata": {},
   "source": [
    "**Droping the null values did solve the problem, there is still need to filter the dataframe and keep only the 32 London boroughs.**"
   ]
  },
  {
   "cell_type": "code",
   "execution_count": 27,
   "metadata": {},
   "outputs": [
    {
     "data": {
      "text/plain": [
       "array(['City of London', 'Barking & Dagenham', 'Barnet', 'Bexley',\n",
       "       'Brent', 'Bromley', 'Camden', 'Croydon', 'Ealing', 'Enfield',\n",
       "       'Greenwich', 'Hackney', 'Hammersmith & Fulham', 'Haringey',\n",
       "       'Harrow', 'Havering', 'Hillingdon', 'Hounslow', 'Islington',\n",
       "       'Kensington & Chelsea', 'Kingston upon Thames', 'Lambeth',\n",
       "       'Lewisham', 'Merton', 'Newham', 'Redbridge',\n",
       "       'Richmond upon Thames', 'Southwark', 'Sutton', 'Tower Hamlets',\n",
       "       'Waltham Forest', 'Wandsworth', 'Westminster', 'Inner London',\n",
       "       'Outer London', 'NORTH EAST', 'NORTH WEST', 'YORKS & THE HUMBER',\n",
       "       'EAST MIDLANDS', 'WEST MIDLANDS', 'EAST OF ENGLAND', 'LONDON',\n",
       "       'SOUTH EAST', 'SOUTH WEST', 'England'], dtype=object)"
      ]
     },
     "execution_count": 27,
     "metadata": {},
     "output_type": "execute_result"
    }
   ],
   "source": [
    "# Checking the unique boroughs names in the DataFrame\n",
    "properties_clean.London_Borough.unique()"
   ]
  },
  {
   "cell_type": "markdown",
   "metadata": {},
   "source": [
    "**There are names that do not belong to the 32 London Boroughs. To solve this problem, we use data from wikipedia as an external data source to filter unwanted names.**"
   ]
  },
  {
   "cell_type": "markdown",
   "metadata": {},
   "source": [
    "##### **2.5.1 Using Wikipedia as an external source to detrmine the aproperiate Boroughs' names and more info**"
   ]
  },
  {
   "cell_type": "code",
   "execution_count": 28,
   "metadata": {},
   "outputs": [],
   "source": [
    "# Reading tabels into a list of DataFrames from html link\n",
    "link = 'https://en.wikipedia.org/wiki/List_of_London_boroughs'\n",
    "tables = pd.read_html(link)"
   ]
  },
  {
   "cell_type": "code",
   "execution_count": 29,
   "metadata": {},
   "outputs": [
    {
     "data": {
      "text/html": [
       "<div>\n",
       "<style scoped>\n",
       "    .dataframe tbody tr th:only-of-type {\n",
       "        vertical-align: middle;\n",
       "    }\n",
       "\n",
       "    .dataframe tbody tr th {\n",
       "        vertical-align: top;\n",
       "    }\n",
       "\n",
       "    .dataframe thead th {\n",
       "        text-align: right;\n",
       "    }\n",
       "</style>\n",
       "<table border=\"1\" class=\"dataframe\">\n",
       "  <thead>\n",
       "    <tr style=\"text-align: right;\">\n",
       "      <th></th>\n",
       "      <th>Borough</th>\n",
       "      <th>Inner</th>\n",
       "      <th>Status</th>\n",
       "      <th>Local authority</th>\n",
       "      <th>Political control</th>\n",
       "      <th>Headquarters</th>\n",
       "      <th>Area (sq mi)</th>\n",
       "      <th>Population (2013 est)[1]</th>\n",
       "      <th>Co-ordinates</th>\n",
       "      <th>Nr. in map</th>\n",
       "    </tr>\n",
       "  </thead>\n",
       "  <tbody>\n",
       "    <tr>\n",
       "      <th>0</th>\n",
       "      <td>Barking and Dagenham [note 1]</td>\n",
       "      <td>NaN</td>\n",
       "      <td>NaN</td>\n",
       "      <td>Barking and Dagenham London Borough Council</td>\n",
       "      <td>Labour</td>\n",
       "      <td>Town Hall, 1 Town Square</td>\n",
       "      <td>13.93</td>\n",
       "      <td>194352</td>\n",
       "      <td>51°33′39″N 0°09′21″E﻿ / ﻿51.5607°N 0.1557°E</td>\n",
       "      <td>25</td>\n",
       "    </tr>\n",
       "    <tr>\n",
       "      <th>1</th>\n",
       "      <td>Barnet</td>\n",
       "      <td>NaN</td>\n",
       "      <td>NaN</td>\n",
       "      <td>Barnet London Borough Council</td>\n",
       "      <td>Conservative</td>\n",
       "      <td>Barnet House, 2 Bristol Avenue, Colindale</td>\n",
       "      <td>33.49</td>\n",
       "      <td>369088</td>\n",
       "      <td>51°37′31″N 0°09′06″W﻿ / ﻿51.6252°N 0.1517°W</td>\n",
       "      <td>31</td>\n",
       "    </tr>\n",
       "    <tr>\n",
       "      <th>2</th>\n",
       "      <td>Bexley</td>\n",
       "      <td>NaN</td>\n",
       "      <td>NaN</td>\n",
       "      <td>Bexley London Borough Council</td>\n",
       "      <td>Conservative</td>\n",
       "      <td>Civic Offices, 2 Watling Street</td>\n",
       "      <td>23.38</td>\n",
       "      <td>236687</td>\n",
       "      <td>51°27′18″N 0°09′02″E﻿ / ﻿51.4549°N 0.1505°E</td>\n",
       "      <td>23</td>\n",
       "    </tr>\n",
       "    <tr>\n",
       "      <th>3</th>\n",
       "      <td>Brent</td>\n",
       "      <td>NaN</td>\n",
       "      <td>NaN</td>\n",
       "      <td>Brent London Borough Council</td>\n",
       "      <td>Labour</td>\n",
       "      <td>Brent Civic Centre, Engineers Way</td>\n",
       "      <td>16.70</td>\n",
       "      <td>317264</td>\n",
       "      <td>51°33′32″N 0°16′54″W﻿ / ﻿51.5588°N 0.2817°W</td>\n",
       "      <td>12</td>\n",
       "    </tr>\n",
       "    <tr>\n",
       "      <th>4</th>\n",
       "      <td>Bromley</td>\n",
       "      <td>NaN</td>\n",
       "      <td>NaN</td>\n",
       "      <td>Bromley London Borough Council</td>\n",
       "      <td>Conservative</td>\n",
       "      <td>Civic Centre, Stockwell Close</td>\n",
       "      <td>57.97</td>\n",
       "      <td>317899</td>\n",
       "      <td>51°24′14″N 0°01′11″E﻿ / ﻿51.4039°N 0.0198°E</td>\n",
       "      <td>20</td>\n",
       "    </tr>\n",
       "  </tbody>\n",
       "</table>\n",
       "</div>"
      ],
      "text/plain": [
       "                         Borough Inner Status  \\\n",
       "0  Barking and Dagenham [note 1]   NaN    NaN   \n",
       "1                         Barnet   NaN    NaN   \n",
       "2                         Bexley   NaN    NaN   \n",
       "3                          Brent   NaN    NaN   \n",
       "4                        Bromley   NaN    NaN   \n",
       "\n",
       "                               Local authority Political control  \\\n",
       "0  Barking and Dagenham London Borough Council            Labour   \n",
       "1                Barnet London Borough Council      Conservative   \n",
       "2                Bexley London Borough Council      Conservative   \n",
       "3                 Brent London Borough Council            Labour   \n",
       "4               Bromley London Borough Council      Conservative   \n",
       "\n",
       "                                Headquarters  Area (sq mi)  \\\n",
       "0                   Town Hall, 1 Town Square         13.93   \n",
       "1  Barnet House, 2 Bristol Avenue, Colindale         33.49   \n",
       "2            Civic Offices, 2 Watling Street         23.38   \n",
       "3          Brent Civic Centre, Engineers Way         16.70   \n",
       "4              Civic Centre, Stockwell Close         57.97   \n",
       "\n",
       "   Population (2013 est)[1]                                 Co-ordinates  \\\n",
       "0                    194352  51°33′39″N 0°09′21″E﻿ / ﻿51.5607°N 0.1557°E   \n",
       "1                    369088  51°37′31″N 0°09′06″W﻿ / ﻿51.6252°N 0.1517°W   \n",
       "2                    236687  51°27′18″N 0°09′02″E﻿ / ﻿51.4549°N 0.1505°E   \n",
       "3                    317264  51°33′32″N 0°16′54″W﻿ / ﻿51.5588°N 0.2817°W   \n",
       "4                    317899  51°24′14″N 0°01′11″E﻿ / ﻿51.4039°N 0.0198°E   \n",
       "\n",
       "   Nr. in map  \n",
       "0          25  \n",
       "1          31  \n",
       "2          23  \n",
       "3          12  \n",
       "4          20  "
      ]
     },
     "execution_count": 29,
     "metadata": {},
     "output_type": "execute_result"
    }
   ],
   "source": [
    "# The fisrt DataFrame in the list is of our interest. \n",
    "tables[0].head()"
   ]
  },
  {
   "cell_type": "code",
   "execution_count": 30,
   "metadata": {},
   "outputs": [
    {
     "name": "stdout",
     "output_type": "stream",
     "text": [
      "The datat type is: <class 'pandas.core.frame.DataFrame'> and it has 32 data entries.\n"
     ]
    }
   ],
   "source": [
    "London_Borough_wiki =  tables[0]\n",
    "print(f'The datat type is: {type(London_Borough_wiki)} and it has {len(London_Borough_wiki)} data entries.')"
   ]
  },
  {
   "cell_type": "markdown",
   "metadata": {},
   "source": [
    "* This DataFrame contains the exact number of the 32 London boroughs. We can use it as a reference to filter unwanted names from the original dataset instead of doing manual work. **However**, we need to deal with the scraping issues of the names in this dataframe to unify the names with the original data set. Names like \"Barking and Dagenham [note 1]\" needs to be cleaned. The Borough column needs to be inspected.\n",
    "* There is also an issue of the \"Inner\" column which should inform weather the borough is inner or outer.We can fix this issue by importing another tale from another wikipedia link."
   ]
  },
  {
   "cell_type": "markdown",
   "metadata": {},
   "source": [
    "**First**, we fix the imported borough names from wikipedia based on the original data set. Since the original data set has 45 unique borough names, all the imported 32 names should be included in orginal dataset."
   ]
  },
  {
   "cell_type": "code",
   "execution_count": 31,
   "metadata": {},
   "outputs": [
    {
     "data": {
      "text/plain": [
       "numpy.ndarray"
      ]
     },
     "execution_count": 31,
     "metadata": {},
     "output_type": "execute_result"
    }
   ],
   "source": [
    "# Save the unique unfiltered boroughs from the original dataframe in np.array\n",
    "unique_unfiltered_boroughs = properties_clean['London_Borough'].unique()\n",
    "type(unique_unfiltered_boroughs)"
   ]
  },
  {
   "cell_type": "code",
   "execution_count": 32,
   "metadata": {},
   "outputs": [
    {
     "data": {
      "text/html": [
       "<div>\n",
       "<style scoped>\n",
       "    .dataframe tbody tr th:only-of-type {\n",
       "        vertical-align: middle;\n",
       "    }\n",
       "\n",
       "    .dataframe tbody tr th {\n",
       "        vertical-align: top;\n",
       "    }\n",
       "\n",
       "    .dataframe thead th {\n",
       "        text-align: right;\n",
       "    }\n",
       "</style>\n",
       "<table border=\"1\" class=\"dataframe\">\n",
       "  <thead>\n",
       "    <tr style=\"text-align: right;\">\n",
       "      <th></th>\n",
       "      <th>Borough</th>\n",
       "    </tr>\n",
       "  </thead>\n",
       "  <tbody>\n",
       "    <tr>\n",
       "      <th>0</th>\n",
       "      <td>Barking and Dagenham [note 1]</td>\n",
       "    </tr>\n",
       "    <tr>\n",
       "      <th>9</th>\n",
       "      <td>Greenwich [note 2]</td>\n",
       "    </tr>\n",
       "    <tr>\n",
       "      <th>11</th>\n",
       "      <td>Hammersmith and Fulham [note 4]</td>\n",
       "    </tr>\n",
       "    <tr>\n",
       "      <th>18</th>\n",
       "      <td>Kensington and Chelsea</td>\n",
       "    </tr>\n",
       "  </tbody>\n",
       "</table>\n",
       "</div>"
      ],
      "text/plain": [
       "                            Borough\n",
       "0     Barking and Dagenham [note 1]\n",
       "9                Greenwich [note 2]\n",
       "11  Hammersmith and Fulham [note 4]\n",
       "18           Kensington and Chelsea"
      ]
     },
     "execution_count": 32,
     "metadata": {},
     "output_type": "execute_result"
    }
   ],
   "source": [
    "# Filtering the unmatched spelling names in the imported data using the .query() function in one step. We could use the .isin() method but\n",
    "         # using.query() is more consice and faster with big data size\n",
    "# Note: the double bracket [['Borough']] is used to have a dataframe output instead of series for better presentation in the notebook\n",
    "\n",
    "London_Borough_wiki.query(\"Borough not in @unique_unfiltered_boroughs\")[['Borough']]"
   ]
  },
  {
   "cell_type": "markdown",
   "metadata": {},
   "source": [
    "**There are four names need to be fixed.**"
   ]
  },
  {
   "cell_type": "code",
   "execution_count": 33,
   "metadata": {},
   "outputs": [
    {
     "name": "stdout",
     "output_type": "stream",
     "text": [
      "Barking & Dagenham\n",
      "Greenwich\n",
      "Hammersmith & Fulham\n",
      "Kensington & Chelsea\n"
     ]
    }
   ],
   "source": [
    "# Extracting these names from the original data to spot the differences. For loop used instead of direct print to have each name in separate line.\n",
    "\n",
    "for i in unique_unfiltered_boroughs[[1, 10, 12, 19]]:\n",
    "    print(i)"
   ]
  },
  {
   "cell_type": "markdown",
   "metadata": {},
   "source": [
    "We can see that **\"and\"** needs to be changes to **'&'**. Also **[note 1]** should be removed. We use regular expression to accomplish this task."
   ]
  },
  {
   "cell_type": "code",
   "execution_count": 34,
   "metadata": {},
   "outputs": [],
   "source": [
    "# using regex with the identified pattern to eliminate the discrepancy in names found in the imported data from wikipedia.\n",
    "\n",
    "London_Borough_wiki['Borough'] = London_Borough_wiki['Borough'].replace(regex=[r'\\sand\\s', r'\\s\\[.+\\]'], value=[' & ', ''])"
   ]
  },
  {
   "cell_type": "code",
   "execution_count": 35,
   "metadata": {},
   "outputs": [
    {
     "name": "stdout",
     "output_type": "stream",
     "text": [
      "Empty DataFrame\n",
      "Columns: [Borough]\n",
      "Index: []\n",
      "0\n"
     ]
    }
   ],
   "source": [
    "# Recheck again to make sure there is no discrepancy in the names using .query()\n",
    "print(London_Borough_wiki.query(\"Borough not in @unique_unfiltered_boroughs\")[['Borough']])\n",
    "\n",
    "# Or we can check by counting the number of unmatched names by negating .isin() using \"~\"\n",
    "print((~London_Borough_wiki['Borough'].isin(properties_clean['London_Borough'])).sum())"
   ]
  },
  {
   "cell_type": "markdown",
   "metadata": {},
   "source": [
    "Both methods showed that the boroughs' names in the wikipedia dataset match the ones in the original data set. Now we can use wikipedia data to filter unwanted names from the original data and keep the 32 boroughs of interest.\n",
    "**However**, before we do this process, other columns in the wikipedia dataset dataset needs to be cleaned. In particular, the 'Inner' column that informs which borough is inner or outer. This column was not parsed properly because its representation was not text.\n",
    "\n",
    "**We will use another wikipedia link to determine which borough is inner or outer**"
   ]
  },
  {
   "cell_type": "code",
   "execution_count": 36,
   "metadata": {},
   "outputs": [
    {
     "data": {
      "text/html": [
       "<div>\n",
       "<style scoped>\n",
       "    .dataframe tbody tr th:only-of-type {\n",
       "        vertical-align: middle;\n",
       "    }\n",
       "\n",
       "    .dataframe tbody tr th {\n",
       "        vertical-align: top;\n",
       "    }\n",
       "\n",
       "    .dataframe thead th {\n",
       "        text-align: right;\n",
       "    }\n",
       "</style>\n",
       "<table border=\"1\" class=\"dataframe\">\n",
       "  <thead>\n",
       "    <tr style=\"text-align: right;\">\n",
       "      <th></th>\n",
       "      <th>London borough</th>\n",
       "      <th>Designation</th>\n",
       "      <th>Former areas</th>\n",
       "      <th>Former areas.1</th>\n",
       "      <th>Former areas.2</th>\n",
       "      <th>Former areas.3</th>\n",
       "      <th>Former areas.4</th>\n",
       "    </tr>\n",
       "  </thead>\n",
       "  <tbody>\n",
       "    <tr>\n",
       "      <th>0</th>\n",
       "      <td>Camden</td>\n",
       "      <td>Inner</td>\n",
       "      <td>Hampstead (11a)</td>\n",
       "      <td>St Pancras (11b)</td>\n",
       "      <td>Holborn (11c)</td>\n",
       "      <td>NaN</td>\n",
       "      <td>NaN</td>\n",
       "    </tr>\n",
       "    <tr>\n",
       "      <th>1</th>\n",
       "      <td>Greenwich</td>\n",
       "      <td>Inner</td>\n",
       "      <td>Greenwich (22a)</td>\n",
       "      <td>Woolwich (part) (22b)</td>\n",
       "      <td>NaN</td>\n",
       "      <td>NaN</td>\n",
       "      <td>NaN</td>\n",
       "    </tr>\n",
       "    <tr>\n",
       "      <th>2</th>\n",
       "      <td>Hackney</td>\n",
       "      <td>Inner</td>\n",
       "      <td>Hackney (9a)</td>\n",
       "      <td>Shoreditch (9b)</td>\n",
       "      <td>Stoke Newington (9c)</td>\n",
       "      <td>NaN</td>\n",
       "      <td>NaN</td>\n",
       "    </tr>\n",
       "    <tr>\n",
       "      <th>3</th>\n",
       "      <td>Hammersmith[notes 2]</td>\n",
       "      <td>Inner</td>\n",
       "      <td>Hammersmith (4a)</td>\n",
       "      <td>Fulham (4b)</td>\n",
       "      <td>NaN</td>\n",
       "      <td>NaN</td>\n",
       "      <td>NaN</td>\n",
       "    </tr>\n",
       "    <tr>\n",
       "      <th>4</th>\n",
       "      <td>Islington</td>\n",
       "      <td>Inner</td>\n",
       "      <td>Islington (10a)</td>\n",
       "      <td>Finsbury (10b)</td>\n",
       "      <td>NaN</td>\n",
       "      <td>NaN</td>\n",
       "      <td>NaN</td>\n",
       "    </tr>\n",
       "  </tbody>\n",
       "</table>\n",
       "</div>"
      ],
      "text/plain": [
       "         London borough Designation      Former areas         Former areas.1  \\\n",
       "0                Camden       Inner   Hampstead (11a)       St Pancras (11b)   \n",
       "1             Greenwich       Inner   Greenwich (22a)  Woolwich (part) (22b)   \n",
       "2               Hackney       Inner      Hackney (9a)        Shoreditch (9b)   \n",
       "3  Hammersmith[notes 2]       Inner  Hammersmith (4a)            Fulham (4b)   \n",
       "4             Islington       Inner   Islington (10a)         Finsbury (10b)   \n",
       "\n",
       "         Former areas.2 Former areas.3 Former areas.4  \n",
       "0         Holborn (11c)            NaN            NaN  \n",
       "1                   NaN            NaN            NaN  \n",
       "2  Stoke Newington (9c)            NaN            NaN  \n",
       "3                   NaN            NaN            NaN  \n",
       "4                   NaN            NaN            NaN  "
      ]
     },
     "execution_count": 36,
     "metadata": {},
     "output_type": "execute_result"
    }
   ],
   "source": [
    "# Readng data from another wikipedia link into list of pandas dataframe\n",
    "url_inner_boroughs = 'https://en.wikipedia.org/wiki/London_boroughs'\n",
    "inner_outer_boroughs_wiki = pd.read_html(url_inner_boroughs)\n",
    "inner_outer_boroughs_wiki[2].head()\n"
   ]
  },
  {
   "cell_type": "code",
   "execution_count": 37,
   "metadata": {},
   "outputs": [
    {
     "data": {
      "text/html": [
       "<div>\n",
       "<style scoped>\n",
       "    .dataframe tbody tr th:only-of-type {\n",
       "        vertical-align: middle;\n",
       "    }\n",
       "\n",
       "    .dataframe tbody tr th {\n",
       "        vertical-align: top;\n",
       "    }\n",
       "\n",
       "    .dataframe thead th {\n",
       "        text-align: right;\n",
       "    }\n",
       "</style>\n",
       "<table border=\"1\" class=\"dataframe\">\n",
       "  <thead>\n",
       "    <tr style=\"text-align: right;\">\n",
       "      <th></th>\n",
       "      <th>London borough</th>\n",
       "      <th>Designation</th>\n",
       "    </tr>\n",
       "  </thead>\n",
       "  <tbody>\n",
       "    <tr>\n",
       "      <th>12</th>\n",
       "      <td>Barking[notes 3]</td>\n",
       "      <td>Outer</td>\n",
       "    </tr>\n",
       "    <tr>\n",
       "      <th>13</th>\n",
       "      <td>Barnet</td>\n",
       "      <td>Outer</td>\n",
       "    </tr>\n",
       "    <tr>\n",
       "      <th>14</th>\n",
       "      <td>Bexley</td>\n",
       "      <td>Outer</td>\n",
       "    </tr>\n",
       "    <tr>\n",
       "      <th>15</th>\n",
       "      <td>Brent</td>\n",
       "      <td>Outer</td>\n",
       "    </tr>\n",
       "    <tr>\n",
       "      <th>16</th>\n",
       "      <td>Bromley</td>\n",
       "      <td>Outer</td>\n",
       "    </tr>\n",
       "    <tr>\n",
       "      <th>0</th>\n",
       "      <td>Camden</td>\n",
       "      <td>Inner</td>\n",
       "    </tr>\n",
       "    <tr>\n",
       "      <th>17</th>\n",
       "      <td>Croydon</td>\n",
       "      <td>Outer</td>\n",
       "    </tr>\n",
       "  </tbody>\n",
       "</table>\n",
       "</div>"
      ],
      "text/plain": [
       "      London borough Designation\n",
       "12  Barking[notes 3]       Outer\n",
       "13            Barnet       Outer\n",
       "14            Bexley       Outer\n",
       "15             Brent       Outer\n",
       "16           Bromley       Outer\n",
       "0             Camden       Inner\n",
       "17           Croydon       Outer"
      ]
     },
     "execution_count": 37,
     "metadata": {},
     "output_type": "execute_result"
    }
   ],
   "source": [
    "# Extracting particular columns from the table of interest, namely 'London borough' and 'Designation', the later labels inner and outer boroughs\n",
    "inner_outer_boroughs_wiki= inner_outer_boroughs_wiki[2].iloc[:, :2]\n",
    "inner_outer_boroughs_wiki.sort_values('London borough').head(7)\n",
    "\n"
   ]
  },
  {
   "cell_type": "markdown",
   "metadata": {},
   "source": [
    "There is an issue with the boroughs' names here too. We will follow a simlar approach to the previous one to have a consistent bourough naming according to the original data as the following:\n",
    "1. Locate unmatching names.\n",
    "2. Determine the unwanted text pattern.\n",
    "3. Replce the unwanted pattern with the correct one."
   ]
  },
  {
   "cell_type": "markdown",
   "metadata": {},
   "source": [
    "Lets first rename the 'London borough' column to be 'Borough'"
   ]
  },
  {
   "cell_type": "code",
   "execution_count": 38,
   "metadata": {},
   "outputs": [],
   "source": [
    "inner_outer_boroughs_wiki.rename(columns={'London borough' : 'Borough'}, inplace=True)"
   ]
  },
  {
   "cell_type": "markdown",
   "metadata": {},
   "source": [
    "**Lets demonstrate using use the .isin() instead of .query() to filter unmatched names between the fixed wikipedia dataset and the other wikipedia one that has the 'Inner' column**"
   ]
  },
  {
   "cell_type": "markdown",
   "metadata": {},
   "source": [
    "First: find unmatched names in the inner_outer_boroughs_wiki dataframe"
   ]
  },
  {
   "cell_type": "code",
   "execution_count": 39,
   "metadata": {},
   "outputs": [],
   "source": [
    "idx = inner_outer_boroughs_wiki['Borough'].isin(London_Borough_wiki['Borough'])"
   ]
  },
  {
   "cell_type": "code",
   "execution_count": 40,
   "metadata": {},
   "outputs": [
    {
     "data": {
      "text/html": [
       "<div>\n",
       "<style scoped>\n",
       "    .dataframe tbody tr th:only-of-type {\n",
       "        vertical-align: middle;\n",
       "    }\n",
       "\n",
       "    .dataframe tbody tr th {\n",
       "        vertical-align: top;\n",
       "    }\n",
       "\n",
       "    .dataframe thead th {\n",
       "        text-align: right;\n",
       "    }\n",
       "</style>\n",
       "<table border=\"1\" class=\"dataframe\">\n",
       "  <thead>\n",
       "    <tr style=\"text-align: right;\">\n",
       "      <th></th>\n",
       "      <th>Borough</th>\n",
       "      <th>Designation</th>\n",
       "    </tr>\n",
       "  </thead>\n",
       "  <tbody>\n",
       "    <tr>\n",
       "      <th>3</th>\n",
       "      <td>Hammersmith[notes 2]</td>\n",
       "      <td>Inner</td>\n",
       "    </tr>\n",
       "    <tr>\n",
       "      <th>5</th>\n",
       "      <td>Kensington and Chelsea</td>\n",
       "      <td>Inner</td>\n",
       "    </tr>\n",
       "    <tr>\n",
       "      <th>12</th>\n",
       "      <td>Barking[notes 3]</td>\n",
       "      <td>Outer</td>\n",
       "    </tr>\n",
       "  </tbody>\n",
       "</table>\n",
       "</div>"
      ],
      "text/plain": [
       "                   Borough Designation\n",
       "3     Hammersmith[notes 2]       Inner\n",
       "5   Kensington and Chelsea       Inner\n",
       "12        Barking[notes 3]       Outer"
      ]
     },
     "execution_count": 40,
     "metadata": {},
     "output_type": "execute_result"
    }
   ],
   "source": [
    "inner_outer_boroughs_wiki[~idx]"
   ]
  },
  {
   "cell_type": "markdown",
   "metadata": {},
   "source": [
    "Second: find the unmatched names in the London_Borough_wiki dataframe with the fixed boroughs' names"
   ]
  },
  {
   "cell_type": "code",
   "execution_count": 41,
   "metadata": {},
   "outputs": [
    {
     "data": {
      "text/html": [
       "<div>\n",
       "<style scoped>\n",
       "    .dataframe tbody tr th:only-of-type {\n",
       "        vertical-align: middle;\n",
       "    }\n",
       "\n",
       "    .dataframe tbody tr th {\n",
       "        vertical-align: top;\n",
       "    }\n",
       "\n",
       "    .dataframe thead th {\n",
       "        text-align: right;\n",
       "    }\n",
       "</style>\n",
       "<table border=\"1\" class=\"dataframe\">\n",
       "  <thead>\n",
       "    <tr style=\"text-align: right;\">\n",
       "      <th></th>\n",
       "      <th>Borough</th>\n",
       "    </tr>\n",
       "  </thead>\n",
       "  <tbody>\n",
       "    <tr>\n",
       "      <th>0</th>\n",
       "      <td>Barking &amp; Dagenham</td>\n",
       "    </tr>\n",
       "    <tr>\n",
       "      <th>11</th>\n",
       "      <td>Hammersmith &amp; Fulham</td>\n",
       "    </tr>\n",
       "    <tr>\n",
       "      <th>18</th>\n",
       "      <td>Kensington &amp; Chelsea</td>\n",
       "    </tr>\n",
       "  </tbody>\n",
       "</table>\n",
       "</div>"
      ],
      "text/plain": [
       "                 Borough\n",
       "0     Barking & Dagenham\n",
       "11  Hammersmith & Fulham\n",
       "18  Kensington & Chelsea"
      ]
     },
     "execution_count": 41,
     "metadata": {},
     "output_type": "execute_result"
    }
   ],
   "source": [
    "idx1 = London_Borough_wiki['Borough'].isin(inner_outer_boroughs_wiki['Borough'])\n",
    "London_Borough_wiki[~idx1][['Borough']]"
   ]
  },
  {
   "cell_type": "markdown",
   "metadata": {},
   "source": [
    "There are three names need to be fixed. From observing the outputs we can detrmine the pattern. The following code does the job."
   ]
  },
  {
   "cell_type": "code",
   "execution_count": 42,
   "metadata": {},
   "outputs": [],
   "source": [
    "inner_outer_boroughs_wiki['Borough'] = inner_outer_boroughs_wiki['Borough'].replace(regex=[r'\\sand', r'\\[.+\\]'], value=[' &', ''])\n",
    "inner_outer_boroughs_wiki['Borough'] = inner_outer_boroughs_wiki['Borough']\\\n",
    "                                        .replace(['Barking', 'Hammersmith'],['Barking & Dagenham', 'Hammersmith & Fulham'])"
   ]
  },
  {
   "cell_type": "code",
   "execution_count": 43,
   "metadata": {},
   "outputs": [
    {
     "data": {
      "text/html": [
       "<div>\n",
       "<style scoped>\n",
       "    .dataframe tbody tr th:only-of-type {\n",
       "        vertical-align: middle;\n",
       "    }\n",
       "\n",
       "    .dataframe tbody tr th {\n",
       "        vertical-align: top;\n",
       "    }\n",
       "\n",
       "    .dataframe thead th {\n",
       "        text-align: right;\n",
       "    }\n",
       "</style>\n",
       "<table border=\"1\" class=\"dataframe\">\n",
       "  <thead>\n",
       "    <tr style=\"text-align: right;\">\n",
       "      <th></th>\n",
       "      <th>Borough</th>\n",
       "      <th>Designation</th>\n",
       "    </tr>\n",
       "  </thead>\n",
       "  <tbody>\n",
       "  </tbody>\n",
       "</table>\n",
       "</div>"
      ],
      "text/plain": [
       "Empty DataFrame\n",
       "Columns: [Borough, Designation]\n",
       "Index: []"
      ]
     },
     "execution_count": 43,
     "metadata": {},
     "output_type": "execute_result"
    }
   ],
   "source": [
    "# Making sure there is no unmatching names any more\n",
    "idx = inner_outer_boroughs_wiki['Borough'].isin(London_Borough_wiki['Borough'])\n",
    "inner_outer_boroughs_wiki[~idx]"
   ]
  },
  {
   "cell_type": "markdown",
   "metadata": {},
   "source": [
    "Now we can merge the two wikipedia datafarems to add the Designation column to the London_Borough_wiki dataframe, before that, we drop the 'Inner' column from it."
   ]
  },
  {
   "cell_type": "code",
   "execution_count": 44,
   "metadata": {},
   "outputs": [],
   "source": [
    "# Droping the 'Inner' column\n",
    "London_Borough_wiki = London_Borough_wiki.drop('Inner', 1)"
   ]
  },
  {
   "cell_type": "code",
   "execution_count": 45,
   "metadata": {},
   "outputs": [
    {
     "data": {
      "text/html": [
       "<div>\n",
       "<style scoped>\n",
       "    .dataframe tbody tr th:only-of-type {\n",
       "        vertical-align: middle;\n",
       "    }\n",
       "\n",
       "    .dataframe tbody tr th {\n",
       "        vertical-align: top;\n",
       "    }\n",
       "\n",
       "    .dataframe thead th {\n",
       "        text-align: right;\n",
       "    }\n",
       "</style>\n",
       "<table border=\"1\" class=\"dataframe\">\n",
       "  <thead>\n",
       "    <tr style=\"text-align: right;\">\n",
       "      <th></th>\n",
       "      <th>Borough</th>\n",
       "      <th>Designation</th>\n",
       "    </tr>\n",
       "  </thead>\n",
       "  <tbody>\n",
       "    <tr>\n",
       "      <th>0</th>\n",
       "      <td>Camden</td>\n",
       "      <td>Inner</td>\n",
       "    </tr>\n",
       "    <tr>\n",
       "      <th>1</th>\n",
       "      <td>Greenwich</td>\n",
       "      <td>Inner</td>\n",
       "    </tr>\n",
       "    <tr>\n",
       "      <th>2</th>\n",
       "      <td>Hackney</td>\n",
       "      <td>Inner</td>\n",
       "    </tr>\n",
       "    <tr>\n",
       "      <th>3</th>\n",
       "      <td>Hammersmith &amp; Fulham</td>\n",
       "      <td>Inner</td>\n",
       "    </tr>\n",
       "    <tr>\n",
       "      <th>4</th>\n",
       "      <td>Islington</td>\n",
       "      <td>Inner</td>\n",
       "    </tr>\n",
       "  </tbody>\n",
       "</table>\n",
       "</div>"
      ],
      "text/plain": [
       "                Borough Designation\n",
       "0                Camden       Inner\n",
       "1             Greenwich       Inner\n",
       "2               Hackney       Inner\n",
       "3  Hammersmith & Fulham       Inner\n",
       "4             Islington       Inner"
      ]
     },
     "execution_count": 45,
     "metadata": {},
     "output_type": "execute_result"
    }
   ],
   "source": [
    "# Merging the two dataframes. The default is inner join\n",
    "London_Borough_wiki = London_Borough_wiki.merge(inner_outer_boroughs_wiki, on='Borough', how='inner')\n",
    "inner_outer_boroughs_wiki[['Borough', 'Designation']].head()"
   ]
  },
  {
   "cell_type": "code",
   "execution_count": 46,
   "metadata": {},
   "outputs": [
    {
     "data": {
      "text/html": [
       "<div>\n",
       "<style scoped>\n",
       "    .dataframe tbody tr th:only-of-type {\n",
       "        vertical-align: middle;\n",
       "    }\n",
       "\n",
       "    .dataframe tbody tr th {\n",
       "        vertical-align: top;\n",
       "    }\n",
       "\n",
       "    .dataframe thead th {\n",
       "        text-align: right;\n",
       "    }\n",
       "</style>\n",
       "<table border=\"1\" class=\"dataframe\">\n",
       "  <thead>\n",
       "    <tr style=\"text-align: right;\">\n",
       "      <th></th>\n",
       "      <th>Borough</th>\n",
       "      <th>Status</th>\n",
       "      <th>Local authority</th>\n",
       "      <th>Political control</th>\n",
       "      <th>Headquarters</th>\n",
       "      <th>Area (sq mi)</th>\n",
       "      <th>Population (2013 est)[1]</th>\n",
       "      <th>Co-ordinates</th>\n",
       "      <th>Nr. in map</th>\n",
       "      <th>Designation</th>\n",
       "    </tr>\n",
       "  </thead>\n",
       "  <tbody>\n",
       "    <tr>\n",
       "      <th>0</th>\n",
       "      <td>Barking &amp; Dagenham</td>\n",
       "      <td>NaN</td>\n",
       "      <td>Barking and Dagenham London Borough Council</td>\n",
       "      <td>Labour</td>\n",
       "      <td>Town Hall, 1 Town Square</td>\n",
       "      <td>13.93</td>\n",
       "      <td>194352</td>\n",
       "      <td>51°33′39″N 0°09′21″E﻿ / ﻿51.5607°N 0.1557°E</td>\n",
       "      <td>25</td>\n",
       "      <td>Outer</td>\n",
       "    </tr>\n",
       "    <tr>\n",
       "      <th>1</th>\n",
       "      <td>Barnet</td>\n",
       "      <td>NaN</td>\n",
       "      <td>Barnet London Borough Council</td>\n",
       "      <td>Conservative</td>\n",
       "      <td>Barnet House, 2 Bristol Avenue, Colindale</td>\n",
       "      <td>33.49</td>\n",
       "      <td>369088</td>\n",
       "      <td>51°37′31″N 0°09′06″W﻿ / ﻿51.6252°N 0.1517°W</td>\n",
       "      <td>31</td>\n",
       "      <td>Outer</td>\n",
       "    </tr>\n",
       "    <tr>\n",
       "      <th>2</th>\n",
       "      <td>Bexley</td>\n",
       "      <td>NaN</td>\n",
       "      <td>Bexley London Borough Council</td>\n",
       "      <td>Conservative</td>\n",
       "      <td>Civic Offices, 2 Watling Street</td>\n",
       "      <td>23.38</td>\n",
       "      <td>236687</td>\n",
       "      <td>51°27′18″N 0°09′02″E﻿ / ﻿51.4549°N 0.1505°E</td>\n",
       "      <td>23</td>\n",
       "      <td>Outer</td>\n",
       "    </tr>\n",
       "    <tr>\n",
       "      <th>3</th>\n",
       "      <td>Brent</td>\n",
       "      <td>NaN</td>\n",
       "      <td>Brent London Borough Council</td>\n",
       "      <td>Labour</td>\n",
       "      <td>Brent Civic Centre, Engineers Way</td>\n",
       "      <td>16.70</td>\n",
       "      <td>317264</td>\n",
       "      <td>51°33′32″N 0°16′54″W﻿ / ﻿51.5588°N 0.2817°W</td>\n",
       "      <td>12</td>\n",
       "      <td>Outer</td>\n",
       "    </tr>\n",
       "    <tr>\n",
       "      <th>4</th>\n",
       "      <td>Bromley</td>\n",
       "      <td>NaN</td>\n",
       "      <td>Bromley London Borough Council</td>\n",
       "      <td>Conservative</td>\n",
       "      <td>Civic Centre, Stockwell Close</td>\n",
       "      <td>57.97</td>\n",
       "      <td>317899</td>\n",
       "      <td>51°24′14″N 0°01′11″E﻿ / ﻿51.4039°N 0.0198°E</td>\n",
       "      <td>20</td>\n",
       "      <td>Outer</td>\n",
       "    </tr>\n",
       "  </tbody>\n",
       "</table>\n",
       "</div>"
      ],
      "text/plain": [
       "              Borough Status                              Local authority  \\\n",
       "0  Barking & Dagenham    NaN  Barking and Dagenham London Borough Council   \n",
       "1              Barnet    NaN                Barnet London Borough Council   \n",
       "2              Bexley    NaN                Bexley London Borough Council   \n",
       "3               Brent    NaN                 Brent London Borough Council   \n",
       "4             Bromley    NaN               Bromley London Borough Council   \n",
       "\n",
       "  Political control                               Headquarters  Area (sq mi)  \\\n",
       "0            Labour                   Town Hall, 1 Town Square         13.93   \n",
       "1      Conservative  Barnet House, 2 Bristol Avenue, Colindale         33.49   \n",
       "2      Conservative            Civic Offices, 2 Watling Street         23.38   \n",
       "3            Labour          Brent Civic Centre, Engineers Way         16.70   \n",
       "4      Conservative              Civic Centre, Stockwell Close         57.97   \n",
       "\n",
       "   Population (2013 est)[1]                                 Co-ordinates  \\\n",
       "0                    194352  51°33′39″N 0°09′21″E﻿ / ﻿51.5607°N 0.1557°E   \n",
       "1                    369088  51°37′31″N 0°09′06″W﻿ / ﻿51.6252°N 0.1517°W   \n",
       "2                    236687  51°27′18″N 0°09′02″E﻿ / ﻿51.4549°N 0.1505°E   \n",
       "3                    317264  51°33′32″N 0°16′54″W﻿ / ﻿51.5588°N 0.2817°W   \n",
       "4                    317899  51°24′14″N 0°01′11″E﻿ / ﻿51.4039°N 0.0198°E   \n",
       "\n",
       "   Nr. in map Designation  \n",
       "0          25       Outer  \n",
       "1          31       Outer  \n",
       "2          23       Outer  \n",
       "3          12       Outer  \n",
       "4          20       Outer  "
      ]
     },
     "execution_count": 46,
     "metadata": {},
     "output_type": "execute_result"
    }
   ],
   "source": [
    "London_Borough_wiki.head()"
   ]
  },
  {
   "cell_type": "markdown",
   "metadata": {},
   "source": [
    "Let's inspect the status column"
   ]
  },
  {
   "cell_type": "code",
   "execution_count": 47,
   "metadata": {},
   "outputs": [
    {
     "data": {
      "text/plain": [
       "array([nan, 'Royal', 'City'], dtype=object)"
      ]
     },
     "execution_count": 47,
     "metadata": {},
     "output_type": "execute_result"
    }
   ],
   "source": [
    "London_Borough_wiki['Status'].unique()"
   ]
  },
  {
   "cell_type": "markdown",
   "metadata": {},
   "source": [
    "The status column has null values for the boroughs that are not Royal nor city. We will fill the null value by \"Not_Royal_Nor_City\""
   ]
  },
  {
   "cell_type": "code",
   "execution_count": 48,
   "metadata": {},
   "outputs": [],
   "source": [
    "London_Borough_wiki['Status'] = London_Borough_wiki['Status'].fillna('Not_Royal_Nor_City')"
   ]
  },
  {
   "cell_type": "code",
   "execution_count": 49,
   "metadata": {},
   "outputs": [
    {
     "data": {
      "text/html": [
       "<div>\n",
       "<style scoped>\n",
       "    .dataframe tbody tr th:only-of-type {\n",
       "        vertical-align: middle;\n",
       "    }\n",
       "\n",
       "    .dataframe tbody tr th {\n",
       "        vertical-align: top;\n",
       "    }\n",
       "\n",
       "    .dataframe thead th {\n",
       "        text-align: right;\n",
       "    }\n",
       "</style>\n",
       "<table border=\"1\" class=\"dataframe\">\n",
       "  <thead>\n",
       "    <tr style=\"text-align: right;\">\n",
       "      <th></th>\n",
       "      <th>Borough</th>\n",
       "      <th>Status</th>\n",
       "      <th>Local authority</th>\n",
       "      <th>Political control</th>\n",
       "      <th>Headquarters</th>\n",
       "      <th>Area (sq mi)</th>\n",
       "      <th>Population (2013 est)[1]</th>\n",
       "      <th>Co-ordinates</th>\n",
       "      <th>Nr. in map</th>\n",
       "      <th>Designation</th>\n",
       "    </tr>\n",
       "  </thead>\n",
       "  <tbody>\n",
       "    <tr>\n",
       "      <th>0</th>\n",
       "      <td>Barking &amp; Dagenham</td>\n",
       "      <td>Not_Royal_Nor_City</td>\n",
       "      <td>Barking and Dagenham London Borough Council</td>\n",
       "      <td>Labour</td>\n",
       "      <td>Town Hall, 1 Town Square</td>\n",
       "      <td>13.93</td>\n",
       "      <td>194352</td>\n",
       "      <td>51°33′39″N 0°09′21″E﻿ / ﻿51.5607°N 0.1557°E</td>\n",
       "      <td>25</td>\n",
       "      <td>Outer</td>\n",
       "    </tr>\n",
       "    <tr>\n",
       "      <th>1</th>\n",
       "      <td>Barnet</td>\n",
       "      <td>Not_Royal_Nor_City</td>\n",
       "      <td>Barnet London Borough Council</td>\n",
       "      <td>Conservative</td>\n",
       "      <td>Barnet House, 2 Bristol Avenue, Colindale</td>\n",
       "      <td>33.49</td>\n",
       "      <td>369088</td>\n",
       "      <td>51°37′31″N 0°09′06″W﻿ / ﻿51.6252°N 0.1517°W</td>\n",
       "      <td>31</td>\n",
       "      <td>Outer</td>\n",
       "    </tr>\n",
       "    <tr>\n",
       "      <th>2</th>\n",
       "      <td>Bexley</td>\n",
       "      <td>Not_Royal_Nor_City</td>\n",
       "      <td>Bexley London Borough Council</td>\n",
       "      <td>Conservative</td>\n",
       "      <td>Civic Offices, 2 Watling Street</td>\n",
       "      <td>23.38</td>\n",
       "      <td>236687</td>\n",
       "      <td>51°27′18″N 0°09′02″E﻿ / ﻿51.4549°N 0.1505°E</td>\n",
       "      <td>23</td>\n",
       "      <td>Outer</td>\n",
       "    </tr>\n",
       "    <tr>\n",
       "      <th>3</th>\n",
       "      <td>Brent</td>\n",
       "      <td>Not_Royal_Nor_City</td>\n",
       "      <td>Brent London Borough Council</td>\n",
       "      <td>Labour</td>\n",
       "      <td>Brent Civic Centre, Engineers Way</td>\n",
       "      <td>16.70</td>\n",
       "      <td>317264</td>\n",
       "      <td>51°33′32″N 0°16′54″W﻿ / ﻿51.5588°N 0.2817°W</td>\n",
       "      <td>12</td>\n",
       "      <td>Outer</td>\n",
       "    </tr>\n",
       "    <tr>\n",
       "      <th>4</th>\n",
       "      <td>Bromley</td>\n",
       "      <td>Not_Royal_Nor_City</td>\n",
       "      <td>Bromley London Borough Council</td>\n",
       "      <td>Conservative</td>\n",
       "      <td>Civic Centre, Stockwell Close</td>\n",
       "      <td>57.97</td>\n",
       "      <td>317899</td>\n",
       "      <td>51°24′14″N 0°01′11″E﻿ / ﻿51.4039°N 0.0198°E</td>\n",
       "      <td>20</td>\n",
       "      <td>Outer</td>\n",
       "    </tr>\n",
       "  </tbody>\n",
       "</table>\n",
       "</div>"
      ],
      "text/plain": [
       "              Borough              Status  \\\n",
       "0  Barking & Dagenham  Not_Royal_Nor_City   \n",
       "1              Barnet  Not_Royal_Nor_City   \n",
       "2              Bexley  Not_Royal_Nor_City   \n",
       "3               Brent  Not_Royal_Nor_City   \n",
       "4             Bromley  Not_Royal_Nor_City   \n",
       "\n",
       "                               Local authority Political control  \\\n",
       "0  Barking and Dagenham London Borough Council            Labour   \n",
       "1                Barnet London Borough Council      Conservative   \n",
       "2                Bexley London Borough Council      Conservative   \n",
       "3                 Brent London Borough Council            Labour   \n",
       "4               Bromley London Borough Council      Conservative   \n",
       "\n",
       "                                Headquarters  Area (sq mi)  \\\n",
       "0                   Town Hall, 1 Town Square         13.93   \n",
       "1  Barnet House, 2 Bristol Avenue, Colindale         33.49   \n",
       "2            Civic Offices, 2 Watling Street         23.38   \n",
       "3          Brent Civic Centre, Engineers Way         16.70   \n",
       "4              Civic Centre, Stockwell Close         57.97   \n",
       "\n",
       "   Population (2013 est)[1]                                 Co-ordinates  \\\n",
       "0                    194352  51°33′39″N 0°09′21″E﻿ / ﻿51.5607°N 0.1557°E   \n",
       "1                    369088  51°37′31″N 0°09′06″W﻿ / ﻿51.6252°N 0.1517°W   \n",
       "2                    236687  51°27′18″N 0°09′02″E﻿ / ﻿51.4549°N 0.1505°E   \n",
       "3                    317264  51°33′32″N 0°16′54″W﻿ / ﻿51.5588°N 0.2817°W   \n",
       "4                    317899  51°24′14″N 0°01′11″E﻿ / ﻿51.4039°N 0.0198°E   \n",
       "\n",
       "   Nr. in map Designation  \n",
       "0          25       Outer  \n",
       "1          31       Outer  \n",
       "2          23       Outer  \n",
       "3          12       Outer  \n",
       "4          20       Outer  "
      ]
     },
     "execution_count": 49,
     "metadata": {},
     "output_type": "execute_result"
    }
   ],
   "source": [
    "London_Borough_wiki.head()"
   ]
  },
  {
   "cell_type": "markdown",
   "metadata": {},
   "source": [
    "**With that, the London_Borough_wiki is ready for further analysis.** \n",
    "\n",
    "**Lets filter unwanted names from the original cleaned dataset 'properties_clean', using the 32  boroughs names from wikipedia**"
   ]
  },
  {
   "cell_type": "code",
   "execution_count": 50,
   "metadata": {},
   "outputs": [],
   "source": [
    "# Filtering unmatching borough names form the original cleaned using the data from wikipedia \n",
    "properties_final = properties_clean.query('London_Borough in @London_Borough_wiki.Borough')"
   ]
  },
  {
   "cell_type": "code",
   "execution_count": 51,
   "metadata": {},
   "outputs": [
    {
     "data": {
      "text/plain": [
       "32"
      ]
     },
     "execution_count": 51,
     "metadata": {},
     "output_type": "execute_result"
    }
   ],
   "source": [
    "# Checking weather we have only 32 boroughs in the originl data\n",
    "len(properties_final['London_Borough'].unique())"
   ]
  },
  {
   "cell_type": "markdown",
   "metadata": {},
   "source": [
    "#### **<center>Now the original dataset is clean and ready for analysis<center>**"
   ]
  },
  {
   "cell_type": "code",
   "execution_count": 52,
   "metadata": {},
   "outputs": [
    {
     "data": {
      "text/html": [
       "<div>\n",
       "<style scoped>\n",
       "    .dataframe tbody tr th:only-of-type {\n",
       "        vertical-align: middle;\n",
       "    }\n",
       "\n",
       "    .dataframe tbody tr th {\n",
       "        vertical-align: top;\n",
       "    }\n",
       "\n",
       "    .dataframe thead th {\n",
       "        text-align: right;\n",
       "    }\n",
       "</style>\n",
       "<table border=\"1\" class=\"dataframe\">\n",
       "  <thead>\n",
       "    <tr style=\"text-align: right;\">\n",
       "      <th></th>\n",
       "      <th>London_Borough</th>\n",
       "      <th>ID</th>\n",
       "      <th>Month</th>\n",
       "      <th>Average Price</th>\n",
       "    </tr>\n",
       "  </thead>\n",
       "  <tbody>\n",
       "    <tr>\n",
       "      <th>1</th>\n",
       "      <td>Barking &amp; Dagenham</td>\n",
       "      <td>E09000002</td>\n",
       "      <td>1995-01-01</td>\n",
       "      <td>50460.22660</td>\n",
       "    </tr>\n",
       "    <tr>\n",
       "      <th>2</th>\n",
       "      <td>Barnet</td>\n",
       "      <td>E09000003</td>\n",
       "      <td>1995-01-01</td>\n",
       "      <td>93284.51832</td>\n",
       "    </tr>\n",
       "    <tr>\n",
       "      <th>3</th>\n",
       "      <td>Bexley</td>\n",
       "      <td>E09000004</td>\n",
       "      <td>1995-01-01</td>\n",
       "      <td>64958.09036</td>\n",
       "    </tr>\n",
       "    <tr>\n",
       "      <th>4</th>\n",
       "      <td>Brent</td>\n",
       "      <td>E09000005</td>\n",
       "      <td>1995-01-01</td>\n",
       "      <td>71306.56698</td>\n",
       "    </tr>\n",
       "    <tr>\n",
       "      <th>5</th>\n",
       "      <td>Bromley</td>\n",
       "      <td>E09000006</td>\n",
       "      <td>1995-01-01</td>\n",
       "      <td>81671.47692</td>\n",
       "    </tr>\n",
       "  </tbody>\n",
       "</table>\n",
       "</div>"
      ],
      "text/plain": [
       "       London_Borough         ID      Month  Average Price\n",
       "1  Barking & Dagenham  E09000002 1995-01-01    50460.22660\n",
       "2              Barnet  E09000003 1995-01-01    93284.51832\n",
       "3              Bexley  E09000004 1995-01-01    64958.09036\n",
       "4               Brent  E09000005 1995-01-01    71306.56698\n",
       "5             Bromley  E09000006 1995-01-01    81671.47692"
      ]
     },
     "execution_count": 52,
     "metadata": {},
     "output_type": "execute_result"
    }
   ],
   "source": [
    "properties_final.head()"
   ]
  },
  {
   "cell_type": "markdown",
   "metadata": {
    "colab_type": "text",
    "id": "PGEx6mJsp6dG"
   },
   "source": [
    "### **2.6. Visualizing the data**\n",
    "\n",
    "To visualize the data, why not subset on a particular London Borough? Maybe do a line plot of Month against Average Price?"
   ]
  },
  {
   "cell_type": "markdown",
   "metadata": {
    "colab_type": "text",
    "id": "aWTPqSJeqHnC"
   },
   "source": [
    "To limit the number of data points you have, you might want to extract the year from every month value your *Month* column. \n",
    "\n",
    "To this end, you *could* apply a ***lambda function***. Your logic could work as follows:\n",
    "1. look through the `Month` column\n",
    "2. extract the year from each individual value in that column \n",
    "3. store that corresponding year as separate column. \n",
    "\n",
    "Whether you go ahead with this is up to you. Just so long as you answer our initial brief: which boroughs of London have seen the greatest house price increase, on average, over the past two decades? "
   ]
  },
  {
   "cell_type": "markdown",
   "metadata": {},
   "source": [
    "**Let's findout the maximum average price for london boroughs**"
   ]
  },
  {
   "cell_type": "code",
   "execution_count": 53,
   "metadata": {},
   "outputs": [],
   "source": [
    "max_avg_price = properties_final.groupby('London_Borough')['Average Price'].max().sort_values(ascending=False)"
   ]
  },
  {
   "cell_type": "code",
   "execution_count": 54,
   "metadata": {},
   "outputs": [
    {
     "data": {
      "text/plain": [
       "London_Borough\n",
       "Kensington & Chelsea    1463377.92\n",
       "Westminster             1117407.52\n",
       "Camden                   890288.41\n",
       "Hammersmith & Fulham     781175.04\n",
       "Islington                706263.09\n",
       "Name: Average Price, dtype: float64"
      ]
     },
     "execution_count": 54,
     "metadata": {},
     "output_type": "execute_result"
    }
   ],
   "source": [
    "max_avg_price.apply(lambda p: round(p, 2)).head()"
   ]
  },
  {
   "cell_type": "markdown",
   "metadata": {},
   "source": [
    "**Extracting the rows with max average price from the data set**"
   ]
  },
  {
   "cell_type": "code",
   "execution_count": 55,
   "metadata": {},
   "outputs": [],
   "source": [
    "idx = properties_final.groupby('London_Borough')['Average Price'].transform(max) == properties_final['Average Price']"
   ]
  },
  {
   "cell_type": "code",
   "execution_count": 56,
   "metadata": {},
   "outputs": [],
   "source": [
    "propertie_max = properties_final[idx].sort_values('Average Price', ascending=False)"
   ]
  },
  {
   "cell_type": "code",
   "execution_count": 57,
   "metadata": {},
   "outputs": [
    {
     "data": {
      "text/html": [
       "<div>\n",
       "<style scoped>\n",
       "    .dataframe tbody tr th:only-of-type {\n",
       "        vertical-align: middle;\n",
       "    }\n",
       "\n",
       "    .dataframe tbody tr th {\n",
       "        vertical-align: top;\n",
       "    }\n",
       "\n",
       "    .dataframe thead th {\n",
       "        text-align: right;\n",
       "    }\n",
       "</style>\n",
       "<table border=\"1\" class=\"dataframe\">\n",
       "  <thead>\n",
       "    <tr style=\"text-align: right;\">\n",
       "      <th></th>\n",
       "      <th>London_Borough</th>\n",
       "      <th>ID</th>\n",
       "      <th>Month</th>\n",
       "      <th>Average Price</th>\n",
       "    </tr>\n",
       "  </thead>\n",
       "  <tbody>\n",
       "    <tr>\n",
       "      <th>13267</th>\n",
       "      <td>Kensington &amp; Chelsea</td>\n",
       "      <td>E09000020</td>\n",
       "      <td>2018-01-01</td>\n",
       "      <td>1.463378e+06</td>\n",
       "    </tr>\n",
       "    <tr>\n",
       "      <th>13328</th>\n",
       "      <td>Westminster</td>\n",
       "      <td>E09000033</td>\n",
       "      <td>2018-02-01</td>\n",
       "      <td>1.117408e+06</td>\n",
       "    </tr>\n",
       "    <tr>\n",
       "      <th>14118</th>\n",
       "      <td>Camden</td>\n",
       "      <td>E09000007</td>\n",
       "      <td>2019-07-01</td>\n",
       "      <td>8.902884e+05</td>\n",
       "    </tr>\n",
       "    <tr>\n",
       "      <th>13020</th>\n",
       "      <td>Hammersmith &amp; Fulham</td>\n",
       "      <td>E09000013</td>\n",
       "      <td>2017-08-01</td>\n",
       "      <td>7.811750e+05</td>\n",
       "    </tr>\n",
       "    <tr>\n",
       "      <th>14562</th>\n",
       "      <td>Islington</td>\n",
       "      <td>E09000019</td>\n",
       "      <td>2020-04-01</td>\n",
       "      <td>7.062631e+05</td>\n",
       "    </tr>\n",
       "  </tbody>\n",
       "</table>\n",
       "</div>"
      ],
      "text/plain": [
       "             London_Borough         ID      Month  Average Price\n",
       "13267  Kensington & Chelsea  E09000020 2018-01-01   1.463378e+06\n",
       "13328           Westminster  E09000033 2018-02-01   1.117408e+06\n",
       "14118                Camden  E09000007 2019-07-01   8.902884e+05\n",
       "13020  Hammersmith & Fulham  E09000013 2017-08-01   7.811750e+05\n",
       "14562             Islington  E09000019 2020-04-01   7.062631e+05"
      ]
     },
     "execution_count": 57,
     "metadata": {},
     "output_type": "execute_result"
    }
   ],
   "source": [
    "propertie_max.head()"
   ]
  },
  {
   "cell_type": "code",
   "execution_count": 58,
   "metadata": {},
   "outputs": [],
   "source": [
    "London_Borough_wiki.rename(columns= {'Borough':'London_Borough'}, inplace=True)"
   ]
  },
  {
   "cell_type": "code",
   "execution_count": 59,
   "metadata": {},
   "outputs": [],
   "source": [
    "propertie_max = propertie_max.merge(London_Borough_wiki, on='London_Borough')"
   ]
  },
  {
   "cell_type": "code",
   "execution_count": 60,
   "metadata": {},
   "outputs": [
    {
     "data": {
      "text/html": [
       "<div>\n",
       "<style scoped>\n",
       "    .dataframe tbody tr th:only-of-type {\n",
       "        vertical-align: middle;\n",
       "    }\n",
       "\n",
       "    .dataframe tbody tr th {\n",
       "        vertical-align: top;\n",
       "    }\n",
       "\n",
       "    .dataframe thead th {\n",
       "        text-align: right;\n",
       "    }\n",
       "</style>\n",
       "<table border=\"1\" class=\"dataframe\">\n",
       "  <thead>\n",
       "    <tr style=\"text-align: right;\">\n",
       "      <th></th>\n",
       "      <th>London_Borough</th>\n",
       "      <th>ID</th>\n",
       "      <th>Month</th>\n",
       "      <th>Average Price</th>\n",
       "      <th>Status</th>\n",
       "      <th>Local authority</th>\n",
       "      <th>Political control</th>\n",
       "      <th>Headquarters</th>\n",
       "      <th>Area (sq mi)</th>\n",
       "      <th>Population (2013 est)[1]</th>\n",
       "      <th>Co-ordinates</th>\n",
       "      <th>Nr. in map</th>\n",
       "      <th>Designation</th>\n",
       "    </tr>\n",
       "  </thead>\n",
       "  <tbody>\n",
       "    <tr>\n",
       "      <th>0</th>\n",
       "      <td>Kensington &amp; Chelsea</td>\n",
       "      <td>E09000020</td>\n",
       "      <td>2018-01-01</td>\n",
       "      <td>1.463378e+06</td>\n",
       "      <td>Royal</td>\n",
       "      <td>Kensington and Chelsea London Borough Council</td>\n",
       "      <td>Conservative</td>\n",
       "      <td>The Town Hall, Hornton Street</td>\n",
       "      <td>4.68</td>\n",
       "      <td>155594</td>\n",
       "      <td>51°30′07″N 0°11′41″W﻿ / ﻿51.5020°N 0.1947°W</td>\n",
       "      <td>3</td>\n",
       "      <td>Inner</td>\n",
       "    </tr>\n",
       "    <tr>\n",
       "      <th>1</th>\n",
       "      <td>Westminster</td>\n",
       "      <td>E09000033</td>\n",
       "      <td>2018-02-01</td>\n",
       "      <td>1.117408e+06</td>\n",
       "      <td>City</td>\n",
       "      <td>Westminster City Council</td>\n",
       "      <td>Conservative</td>\n",
       "      <td>Westminster City Hall, 64 Victoria Street</td>\n",
       "      <td>8.29</td>\n",
       "      <td>226841</td>\n",
       "      <td>51°29′50″N 0°08′14″W﻿ / ﻿51.4973°N 0.1372°W</td>\n",
       "      <td>2</td>\n",
       "      <td>Inner</td>\n",
       "    </tr>\n",
       "    <tr>\n",
       "      <th>2</th>\n",
       "      <td>Camden</td>\n",
       "      <td>E09000007</td>\n",
       "      <td>2019-07-01</td>\n",
       "      <td>8.902884e+05</td>\n",
       "      <td>Not_Royal_Nor_City</td>\n",
       "      <td>Camden London Borough Council</td>\n",
       "      <td>Labour</td>\n",
       "      <td>Camden Town Hall, Judd Street</td>\n",
       "      <td>8.40</td>\n",
       "      <td>229719</td>\n",
       "      <td>51°31′44″N 0°07′32″W﻿ / ﻿51.5290°N 0.1255°W</td>\n",
       "      <td>11</td>\n",
       "      <td>Inner</td>\n",
       "    </tr>\n",
       "    <tr>\n",
       "      <th>3</th>\n",
       "      <td>Hammersmith &amp; Fulham</td>\n",
       "      <td>E09000013</td>\n",
       "      <td>2017-08-01</td>\n",
       "      <td>7.811750e+05</td>\n",
       "      <td>Not_Royal_Nor_City</td>\n",
       "      <td>Hammersmith and Fulham London Borough Council</td>\n",
       "      <td>Labour</td>\n",
       "      <td>Town Hall, King Street</td>\n",
       "      <td>6.33</td>\n",
       "      <td>178685</td>\n",
       "      <td>51°29′34″N 0°14′02″W﻿ / ﻿51.4927°N 0.2339°W</td>\n",
       "      <td>4</td>\n",
       "      <td>Inner</td>\n",
       "    </tr>\n",
       "    <tr>\n",
       "      <th>4</th>\n",
       "      <td>Islington</td>\n",
       "      <td>E09000019</td>\n",
       "      <td>2020-04-01</td>\n",
       "      <td>7.062631e+05</td>\n",
       "      <td>Not_Royal_Nor_City</td>\n",
       "      <td>Islington London Borough Council</td>\n",
       "      <td>Labour</td>\n",
       "      <td>Customer Centre, 222 Upper Street</td>\n",
       "      <td>5.74</td>\n",
       "      <td>215667</td>\n",
       "      <td>51°32′30″N 0°06′08″W﻿ / ﻿51.5416°N 0.1022°W</td>\n",
       "      <td>10</td>\n",
       "      <td>Inner</td>\n",
       "    </tr>\n",
       "  </tbody>\n",
       "</table>\n",
       "</div>"
      ],
      "text/plain": [
       "         London_Borough         ID      Month  Average Price  \\\n",
       "0  Kensington & Chelsea  E09000020 2018-01-01   1.463378e+06   \n",
       "1           Westminster  E09000033 2018-02-01   1.117408e+06   \n",
       "2                Camden  E09000007 2019-07-01   8.902884e+05   \n",
       "3  Hammersmith & Fulham  E09000013 2017-08-01   7.811750e+05   \n",
       "4             Islington  E09000019 2020-04-01   7.062631e+05   \n",
       "\n",
       "               Status                                Local authority  \\\n",
       "0               Royal  Kensington and Chelsea London Borough Council   \n",
       "1                City                       Westminster City Council   \n",
       "2  Not_Royal_Nor_City                  Camden London Borough Council   \n",
       "3  Not_Royal_Nor_City  Hammersmith and Fulham London Borough Council   \n",
       "4  Not_Royal_Nor_City               Islington London Borough Council   \n",
       "\n",
       "  Political control                               Headquarters  Area (sq mi)  \\\n",
       "0      Conservative              The Town Hall, Hornton Street          4.68   \n",
       "1      Conservative  Westminster City Hall, 64 Victoria Street          8.29   \n",
       "2            Labour              Camden Town Hall, Judd Street          8.40   \n",
       "3            Labour                     Town Hall, King Street          6.33   \n",
       "4            Labour          Customer Centre, 222 Upper Street          5.74   \n",
       "\n",
       "   Population (2013 est)[1]                                 Co-ordinates  \\\n",
       "0                    155594  51°30′07″N 0°11′41″W﻿ / ﻿51.5020°N 0.1947°W   \n",
       "1                    226841  51°29′50″N 0°08′14″W﻿ / ﻿51.4973°N 0.1372°W   \n",
       "2                    229719  51°31′44″N 0°07′32″W﻿ / ﻿51.5290°N 0.1255°W   \n",
       "3                    178685  51°29′34″N 0°14′02″W﻿ / ﻿51.4927°N 0.2339°W   \n",
       "4                    215667  51°32′30″N 0°06′08″W﻿ / ﻿51.5416°N 0.1022°W   \n",
       "\n",
       "   Nr. in map Designation  \n",
       "0           3       Inner  \n",
       "1           2       Inner  \n",
       "2          11       Inner  \n",
       "3           4       Inner  \n",
       "4          10       Inner  "
      ]
     },
     "execution_count": 60,
     "metadata": {},
     "output_type": "execute_result"
    }
   ],
   "source": [
    "propertie_max.head()"
   ]
  },
  {
   "cell_type": "code",
   "execution_count": 61,
   "metadata": {},
   "outputs": [
    {
     "data": {
      "image/png": "[encoded data removed]",
      "text/plain": [
       "<Figure size 1584x936 with 1 Axes>"
      ]
     },
     "metadata": {},
     "output_type": "display_data"
    }
   ],
   "source": [
    "\n",
    "sns.set_style(\"whitegrid\")\n",
    "\n",
    "\n",
    "# Initialize the matplotlib figure\n",
    "fig, ax = plt.subplots(figsize=(22.0, 13.0))\n",
    "fig.suptitle('Max Average Price of London Boroughs (1995 - 2020)', fontsize=16 )\n",
    "\n",
    "sns.barplot(x='London_Borough', y='Average Price', data= propertie_max, hue='Designation', palette=(\"Blues_d\"), ax=ax)\n",
    "ax.set_xticklabels(ax.get_xticklabels(), rotation=90, size=15)\n",
    "ax.set_yticklabels(ax.get_yticks(), size=13)\n",
    "ax.set_xlabel(\"London Boroughs\",fontsize=14)\n",
    "ax.set_ylabel(\"Average Price\",fontsize=14)\n",
    "plt.setp(ax.get_legend().get_texts(), fontsize=12)\n",
    "sns.despine(left=True, bottom=True)\n",
    "\n",
    "def autolabel(rects):\n",
    "    \"\"\"Attach a text label above each bar in *rects*, displaying its height.\"\"\"\n",
    "    for rect in rects.patches:\n",
    "        height = rect.get_height()\n",
    "        ax.annotate('{:,.0f}'.format(height),\n",
    "                    xy=(rect.get_x() + rect.get_width() / 2, height),\n",
    "                    xytext=(0, 7),  # 3 points vertical offset\n",
    "                    textcoords=\"offset points\",\n",
    "                    ha='center', va='center', size=10, color='r')\n",
    "\n",
    "\n",
    "autolabel(ax)\n",
    "\n",
    "\n",
    "fig.tight_layout()\n",
    "\n"
   ]
  },
  {
   "cell_type": "markdown",
   "metadata": {},
   "source": [
    "**Inspecting the change of average price over years for boroughs with minimum and maximum average price**"
   ]
  },
  {
   "cell_type": "code",
   "execution_count": 62,
   "metadata": {},
   "outputs": [],
   "source": [
    "# Barking = properties_final.query('London_Borough == \"Barking & Dagenham\"')\n",
    "# Kensington = properties_final.query('London_Borough == \"Kensington & Chelsea\"')\n",
    "\n",
    "min_max = properties_final.query('London_Borough in [\"Barking & Dagenham\", \"Kensington & Chelsea\"]')"
   ]
  },
  {
   "cell_type": "code",
   "execution_count": 63,
   "metadata": {},
   "outputs": [
    {
     "data": {
      "image/png": "[encoded data removed]",
      "text/plain": [
       "<Figure size 1440x720 with 1 Axes>"
      ]
     },
     "metadata": {},
     "output_type": "display_data"
    }
   ],
   "source": [
    "f, ax = plt.subplots(figsize=(20, 10))\n",
    "\n",
    "sns.set_style(\"darkgrid\")\n",
    "sns.lineplot(x= min_max.Month.dt.year, y='Average Price', data=min_max, color='r',  hue='London_Borough', ax=ax)\n",
    "ax.set_xlabel(\"Year\",fontsize=14)\n",
    "ax.set_ylabel(\"Average Price\",fontsize=14)\n",
    "ax.set_yticklabels(ax.get_yticks(), size = 12)\n",
    "ax.set_xticklabels(ax.get_xticks(), size = 12)\n",
    "plt.setp(ax.get_legend().get_texts(), fontsize='12')\n",
    "sns.despine(left=True, bottom=True)\n",
    "#sns.lineplot(x='Month', y='Average Price', data=Kensington, color='b', ax=ax)\n",
    "#plt.tight_layout(h_pad=2)\n"
   ]
  },
  {
   "cell_type": "markdown",
   "metadata": {},
   "source": [
    "**Calculating maximum percent change in price over years for each borough**"
   ]
  },
  {
   "cell_type": "code",
   "execution_count": 64,
   "metadata": {
    "colab": {},
    "colab_type": "code",
    "id": "e0DF92cyqnu8"
   },
   "outputs": [],
   "source": [
    "properties_final=properties_final.set_index(['London_Borough', 'Month']).sort_index()"
   ]
  },
  {
   "cell_type": "code",
   "execution_count": 65,
   "metadata": {},
   "outputs": [
    {
     "data": {
      "text/html": [
       "<div>\n",
       "<style scoped>\n",
       "    .dataframe tbody tr th:only-of-type {\n",
       "        vertical-align: middle;\n",
       "    }\n",
       "\n",
       "    .dataframe tbody tr th {\n",
       "        vertical-align: top;\n",
       "    }\n",
       "\n",
       "    .dataframe thead th {\n",
       "        text-align: right;\n",
       "    }\n",
       "</style>\n",
       "<table border=\"1\" class=\"dataframe\">\n",
       "  <thead>\n",
       "    <tr style=\"text-align: right;\">\n",
       "      <th></th>\n",
       "      <th></th>\n",
       "      <th>ID</th>\n",
       "      <th>Average Price</th>\n",
       "    </tr>\n",
       "    <tr>\n",
       "      <th>London_Borough</th>\n",
       "      <th>Month</th>\n",
       "      <th></th>\n",
       "      <th></th>\n",
       "    </tr>\n",
       "  </thead>\n",
       "  <tbody>\n",
       "    <tr>\n",
       "      <th rowspan=\"5\" valign=\"top\">Barking &amp; Dagenham</th>\n",
       "      <th>1995-01-01</th>\n",
       "      <td>E09000002</td>\n",
       "      <td>50460.22660</td>\n",
       "    </tr>\n",
       "    <tr>\n",
       "      <th>1995-02-01</th>\n",
       "      <td>E09000002</td>\n",
       "      <td>51085.77983</td>\n",
       "    </tr>\n",
       "    <tr>\n",
       "      <th>1995-03-01</th>\n",
       "      <td>E09000002</td>\n",
       "      <td>51268.96956</td>\n",
       "    </tr>\n",
       "    <tr>\n",
       "      <th>1995-04-01</th>\n",
       "      <td>E09000002</td>\n",
       "      <td>53133.50526</td>\n",
       "    </tr>\n",
       "    <tr>\n",
       "      <th>1995-05-01</th>\n",
       "      <td>E09000002</td>\n",
       "      <td>53042.24852</td>\n",
       "    </tr>\n",
       "  </tbody>\n",
       "</table>\n",
       "</div>"
      ],
      "text/plain": [
       "                                      ID  Average Price\n",
       "London_Borough     Month                               \n",
       "Barking & Dagenham 1995-01-01  E09000002    50460.22660\n",
       "                   1995-02-01  E09000002    51085.77983\n",
       "                   1995-03-01  E09000002    51268.96956\n",
       "                   1995-04-01  E09000002    53133.50526\n",
       "                   1995-05-01  E09000002    53042.24852"
      ]
     },
     "execution_count": 65,
     "metadata": {},
     "output_type": "execute_result"
    }
   ],
   "source": [
    "properties_final.head()"
   ]
  },
  {
   "cell_type": "code",
   "execution_count": 66,
   "metadata": {},
   "outputs": [],
   "source": [
    "idx_boroughs = properties_final.index.get_level_values('London_Borough').unique()\n",
    "\n",
    "for idx in idx_boroughs:\n",
    "    properties_final.loc[(idx, slice(None)), 'percent_change'] = properties_final.loc[(idx, slice(None)), 'Average Price'].pct_change()"
   ]
  },
  {
   "cell_type": "code",
   "execution_count": 67,
   "metadata": {},
   "outputs": [
    {
     "data": {
      "text/plain": [
       "ID                False\n",
       "Average Price     False\n",
       "percent_change     True\n",
       "dtype: bool"
      ]
     },
     "execution_count": 67,
     "metadata": {},
     "output_type": "execute_result"
    }
   ],
   "source": [
    "properties_final.isnull().any()\n"
   ]
  },
  {
   "cell_type": "code",
   "execution_count": 68,
   "metadata": {},
   "outputs": [],
   "source": [
    "max_pct_change = properties_final.groupby(level=0)['percent_change'].max().sort_values(ascending=False)"
   ]
  },
  {
   "cell_type": "code",
   "execution_count": 69,
   "metadata": {},
   "outputs": [
    {
     "data": {
      "text/plain": [
       "London_Borough\n",
       "Brent                   0.103942\n",
       "Kensington & Chelsea    0.090912\n",
       "Southwark               0.086063\n",
       "Tower Hamlets           0.080630\n",
       "Lambeth                 0.077627\n",
       "Name: percent_change, dtype: float64"
      ]
     },
     "execution_count": 69,
     "metadata": {},
     "output_type": "execute_result"
    }
   ],
   "source": [
    "max_pct_change.head()"
   ]
  },
  {
   "cell_type": "code",
   "execution_count": 70,
   "metadata": {},
   "outputs": [],
   "source": [
    "max_pct_change = pd.DataFrame(max_pct_change).reset_index()"
   ]
  },
  {
   "cell_type": "code",
   "execution_count": 71,
   "metadata": {},
   "outputs": [],
   "source": [
    "properties_final.reset_index(inplace=True)"
   ]
  },
  {
   "cell_type": "code",
   "execution_count": 72,
   "metadata": {},
   "outputs": [],
   "source": [
    "propertie_max_pct_change = max_pct_change.merge(properties_final, on=['London_Borough', 'percent_change'])"
   ]
  },
  {
   "cell_type": "code",
   "execution_count": 73,
   "metadata": {},
   "outputs": [
    {
     "data": {
      "text/plain": [
       "London_Borough    32\n",
       "percent_change    32\n",
       "Month             32\n",
       "ID                32\n",
       "Average Price     32\n",
       "dtype: int64"
      ]
     },
     "execution_count": 73,
     "metadata": {},
     "output_type": "execute_result"
    }
   ],
   "source": [
    "propertie_max_pct_change.count()"
   ]
  },
  {
   "cell_type": "code",
   "execution_count": 74,
   "metadata": {},
   "outputs": [],
   "source": [
    "propertie_max_pct_change =propertie_max_pct_change.merge(London_Borough_wiki, on='London_Borough')"
   ]
  },
  {
   "cell_type": "code",
   "execution_count": 75,
   "metadata": {},
   "outputs": [
    {
     "data": {
      "text/html": [
       "<div>\n",
       "<style scoped>\n",
       "    .dataframe tbody tr th:only-of-type {\n",
       "        vertical-align: middle;\n",
       "    }\n",
       "\n",
       "    .dataframe tbody tr th {\n",
       "        vertical-align: top;\n",
       "    }\n",
       "\n",
       "    .dataframe thead th {\n",
       "        text-align: right;\n",
       "    }\n",
       "</style>\n",
       "<table border=\"1\" class=\"dataframe\">\n",
       "  <thead>\n",
       "    <tr style=\"text-align: right;\">\n",
       "      <th></th>\n",
       "      <th>London_Borough</th>\n",
       "      <th>percent_change</th>\n",
       "      <th>Month</th>\n",
       "      <th>ID</th>\n",
       "      <th>Average Price</th>\n",
       "      <th>Status</th>\n",
       "      <th>Local authority</th>\n",
       "      <th>Political control</th>\n",
       "      <th>Headquarters</th>\n",
       "      <th>Area (sq mi)</th>\n",
       "      <th>Population (2013 est)[1]</th>\n",
       "      <th>Co-ordinates</th>\n",
       "      <th>Nr. in map</th>\n",
       "      <th>Designation</th>\n",
       "    </tr>\n",
       "  </thead>\n",
       "  <tbody>\n",
       "    <tr>\n",
       "      <th>0</th>\n",
       "      <td>Brent</td>\n",
       "      <td>0.103942</td>\n",
       "      <td>2020-02-01</td>\n",
       "      <td>E09000005</td>\n",
       "      <td>467144.91460</td>\n",
       "      <td>Not_Royal_Nor_City</td>\n",
       "      <td>Brent London Borough Council</td>\n",
       "      <td>Labour</td>\n",
       "      <td>Brent Civic Centre, Engineers Way</td>\n",
       "      <td>16.70</td>\n",
       "      <td>317264</td>\n",
       "      <td>51°33′32″N 0°16′54″W﻿ / ﻿51.5588°N 0.2817°W</td>\n",
       "      <td>12</td>\n",
       "      <td>Outer</td>\n",
       "    </tr>\n",
       "    <tr>\n",
       "      <th>1</th>\n",
       "      <td>Kensington &amp; Chelsea</td>\n",
       "      <td>0.090912</td>\n",
       "      <td>2011-04-01</td>\n",
       "      <td>E09000020</td>\n",
       "      <td>959519.87750</td>\n",
       "      <td>Royal</td>\n",
       "      <td>Kensington and Chelsea London Borough Council</td>\n",
       "      <td>Conservative</td>\n",
       "      <td>The Town Hall, Hornton Street</td>\n",
       "      <td>4.68</td>\n",
       "      <td>155594</td>\n",
       "      <td>51°30′07″N 0°11′41″W﻿ / ﻿51.5020°N 0.1947°W</td>\n",
       "      <td>3</td>\n",
       "      <td>Inner</td>\n",
       "    </tr>\n",
       "    <tr>\n",
       "      <th>2</th>\n",
       "      <td>Southwark</td>\n",
       "      <td>0.086063</td>\n",
       "      <td>1999-09-01</td>\n",
       "      <td>E09000028</td>\n",
       "      <td>119479.53170</td>\n",
       "      <td>Not_Royal_Nor_City</td>\n",
       "      <td>Southwark London Borough Council</td>\n",
       "      <td>Labour</td>\n",
       "      <td>160 Tooley Street</td>\n",
       "      <td>11.14</td>\n",
       "      <td>298464</td>\n",
       "      <td>51°30′13″N 0°04′49″W﻿ / ﻿51.5035°N 0.0804°W</td>\n",
       "      <td>7</td>\n",
       "      <td>Inner</td>\n",
       "    </tr>\n",
       "    <tr>\n",
       "      <th>3</th>\n",
       "      <td>Tower Hamlets</td>\n",
       "      <td>0.080630</td>\n",
       "      <td>1997-02-01</td>\n",
       "      <td>E09000030</td>\n",
       "      <td>80440.91184</td>\n",
       "      <td>Not_Royal_Nor_City</td>\n",
       "      <td>Tower Hamlets London Borough Council</td>\n",
       "      <td>Labour</td>\n",
       "      <td>Town Hall, Mulberry Place, 5 Clove Crescent</td>\n",
       "      <td>7.63</td>\n",
       "      <td>272890</td>\n",
       "      <td>51°30′36″N 0°00′21″W﻿ / ﻿51.5099°N 0.0059°W</td>\n",
       "      <td>8</td>\n",
       "      <td>Inner</td>\n",
       "    </tr>\n",
       "    <tr>\n",
       "      <th>4</th>\n",
       "      <td>Lambeth</td>\n",
       "      <td>0.077627</td>\n",
       "      <td>1997-07-01</td>\n",
       "      <td>E09000022</td>\n",
       "      <td>91999.42510</td>\n",
       "      <td>Not_Royal_Nor_City</td>\n",
       "      <td>Lambeth London Borough Council</td>\n",
       "      <td>Labour</td>\n",
       "      <td>Lambeth Town Hall, Brixton Hill</td>\n",
       "      <td>10.36</td>\n",
       "      <td>314242</td>\n",
       "      <td>51°27′39″N 0°06′59″W﻿ / ﻿51.4607°N 0.1163°W</td>\n",
       "      <td>6</td>\n",
       "      <td>Inner</td>\n",
       "    </tr>\n",
       "  </tbody>\n",
       "</table>\n",
       "</div>"
      ],
      "text/plain": [
       "         London_Borough  percent_change      Month         ID  Average Price  \\\n",
       "0                 Brent        0.103942 2020-02-01  E09000005   467144.91460   \n",
       "1  Kensington & Chelsea        0.090912 2011-04-01  E09000020   959519.87750   \n",
       "2             Southwark        0.086063 1999-09-01  E09000028   119479.53170   \n",
       "3         Tower Hamlets        0.080630 1997-02-01  E09000030    80440.91184   \n",
       "4               Lambeth        0.077627 1997-07-01  E09000022    91999.42510   \n",
       "\n",
       "               Status                                Local authority  \\\n",
       "0  Not_Royal_Nor_City                   Brent London Borough Council   \n",
       "1               Royal  Kensington and Chelsea London Borough Council   \n",
       "2  Not_Royal_Nor_City               Southwark London Borough Council   \n",
       "3  Not_Royal_Nor_City           Tower Hamlets London Borough Council   \n",
       "4  Not_Royal_Nor_City                 Lambeth London Borough Council   \n",
       "\n",
       "  Political control                                 Headquarters  \\\n",
       "0            Labour            Brent Civic Centre, Engineers Way   \n",
       "1      Conservative                The Town Hall, Hornton Street   \n",
       "2            Labour                            160 Tooley Street   \n",
       "3            Labour  Town Hall, Mulberry Place, 5 Clove Crescent   \n",
       "4            Labour              Lambeth Town Hall, Brixton Hill   \n",
       "\n",
       "   Area (sq mi)  Population (2013 est)[1]  \\\n",
       "0         16.70                    317264   \n",
       "1          4.68                    155594   \n",
       "2         11.14                    298464   \n",
       "3          7.63                    272890   \n",
       "4         10.36                    314242   \n",
       "\n",
       "                                  Co-ordinates  Nr. in map Designation  \n",
       "0  51°33′32″N 0°16′54″W﻿ / ﻿51.5588°N 0.2817°W          12       Outer  \n",
       "1  51°30′07″N 0°11′41″W﻿ / ﻿51.5020°N 0.1947°W           3       Inner  \n",
       "2  51°30′13″N 0°04′49″W﻿ / ﻿51.5035°N 0.0804°W           7       Inner  \n",
       "3  51°30′36″N 0°00′21″W﻿ / ﻿51.5099°N 0.0059°W           8       Inner  \n",
       "4  51°27′39″N 0°06′59″W﻿ / ﻿51.4607°N 0.1163°W           6       Inner  "
      ]
     },
     "execution_count": 75,
     "metadata": {},
     "output_type": "execute_result"
    }
   ],
   "source": [
    "propertie_max_pct_change.head()"
   ]
  },
  {
   "cell_type": "code",
   "execution_count": 76,
   "metadata": {},
   "outputs": [
    {
     "data": {
      "text/plain": [
       "<Figure size 432x288 with 0 Axes>"
      ]
     },
     "metadata": {},
     "output_type": "display_data"
    },
    {
     "data": {
      "image/png": "[encoded data removed]",
      "text/plain": [
       "<Figure size 1584x936 with 1 Axes>"
      ]
     },
     "metadata": {},
     "output_type": "display_data"
    }
   ],
   "source": [
    "plt.clf()\n",
    "sns.set_style(\"whitegrid\")\n",
    "\n",
    "\n",
    "# Initialize the matplotlib figure\n",
    "fig, ax = plt.subplots(figsize=(22.0, 13.0))\n",
    "fig.suptitle('Max Price Percentage Change of London Boroughs (1995 - 2020)', fontsize=16 )\n",
    "\n",
    "sns.barplot(x='London_Borough', y='percent_change', data= propertie_max_pct_change, hue='Designation', palette=(\"Blues_d\"), ax=ax)\n",
    "ax.set_xticklabels(ax.get_xticklabels(), rotation=90, size=15)\n",
    "ax.set_yticklabels(ax.get_yticks(), size=13)\n",
    "ax.set_xlabel(\"London Boroughs\",fontsize=14)\n",
    "ax.set_ylabel(\"Percentage Change in Price\",fontsize=14)\n",
    "plt.setp(ax.get_legend().get_texts(), fontsize=12)\n",
    "sns.despine(left=True, bottom=True)\n",
    "\n",
    "fig.tight_layout()\n"
   ]
  },
  {
   "cell_type": "markdown",
   "metadata": {
    "colab_type": "text",
    "id": "2knuTxAEqoJ4"
   },
   "source": [
    "**3. Modeling**\n",
    "\n",
    "Consider creating a function that will calculate a ratio of house prices, comparing the price of a house in 2018 to the price in 1998.\n",
    "\n",
    "Consider calling this function create_price_ratio.\n",
    "\n",
    "You'd want this function to:\n",
    "1. Take a filter of dfg, specifically where this filter constrains the London_Borough, as an argument. For example, one admissible argument should be: dfg[dfg['London_Borough']=='Camden'].\n",
    "2. Get the Average Price for that Borough, for the years 1998 and 2018.\n",
    "4. Calculate the ratio of the Average Price for 1998 divided by the Average Price for 2018.\n",
    "5. Return that ratio.\n",
    "\n",
    "Once you've written this function, you ultimately want to use it to iterate through all the unique London_Boroughs and work out the ratio capturing the difference of house prices between 1998 and 2018.\n",
    "\n",
    "Bear in mind: you don't have to write a function like this if you don't want to. If you can solve the brief otherwise, then great! \n",
    "\n",
    "***Hint***: This section should test the skills you acquired in:\n",
    "- Python Data Science Toolbox - Part One, all modules"
   ]
  },
  {
   "cell_type": "code",
   "execution_count": 77,
   "metadata": {
    "colab": {},
    "colab_type": "code",
    "id": "cKTyr437UgDa"
   },
   "outputs": [
    {
     "data": {
      "text/html": [
       "<div>\n",
       "<style scoped>\n",
       "    .dataframe tbody tr th:only-of-type {\n",
       "        vertical-align: middle;\n",
       "    }\n",
       "\n",
       "    .dataframe tbody tr th {\n",
       "        vertical-align: top;\n",
       "    }\n",
       "\n",
       "    .dataframe thead th {\n",
       "        text-align: right;\n",
       "    }\n",
       "</style>\n",
       "<table border=\"1\" class=\"dataframe\">\n",
       "  <thead>\n",
       "    <tr style=\"text-align: right;\">\n",
       "      <th></th>\n",
       "      <th>London_Borough</th>\n",
       "      <th>Month</th>\n",
       "      <th>ID</th>\n",
       "      <th>Average Price</th>\n",
       "      <th>percent_change</th>\n",
       "    </tr>\n",
       "  </thead>\n",
       "  <tbody>\n",
       "    <tr>\n",
       "      <th>0</th>\n",
       "      <td>Barking &amp; Dagenham</td>\n",
       "      <td>1995-01-01</td>\n",
       "      <td>E09000002</td>\n",
       "      <td>5.046023e+04</td>\n",
       "      <td>NaN</td>\n",
       "    </tr>\n",
       "    <tr>\n",
       "      <th>1</th>\n",
       "      <td>Barking &amp; Dagenham</td>\n",
       "      <td>1995-02-01</td>\n",
       "      <td>E09000002</td>\n",
       "      <td>5.108578e+04</td>\n",
       "      <td>0.012397</td>\n",
       "    </tr>\n",
       "    <tr>\n",
       "      <th>2</th>\n",
       "      <td>Barking &amp; Dagenham</td>\n",
       "      <td>1995-03-01</td>\n",
       "      <td>E09000002</td>\n",
       "      <td>5.126897e+04</td>\n",
       "      <td>0.003586</td>\n",
       "    </tr>\n",
       "    <tr>\n",
       "      <th>3</th>\n",
       "      <td>Barking &amp; Dagenham</td>\n",
       "      <td>1995-04-01</td>\n",
       "      <td>E09000002</td>\n",
       "      <td>5.313351e+04</td>\n",
       "      <td>0.036368</td>\n",
       "    </tr>\n",
       "    <tr>\n",
       "      <th>4</th>\n",
       "      <td>Barking &amp; Dagenham</td>\n",
       "      <td>1995-05-01</td>\n",
       "      <td>E09000002</td>\n",
       "      <td>5.304225e+04</td>\n",
       "      <td>-0.001717</td>\n",
       "    </tr>\n",
       "    <tr>\n",
       "      <th>...</th>\n",
       "      <td>...</td>\n",
       "      <td>...</td>\n",
       "      <td>...</td>\n",
       "      <td>...</td>\n",
       "      <td>...</td>\n",
       "    </tr>\n",
       "    <tr>\n",
       "      <th>9723</th>\n",
       "      <td>Westminster</td>\n",
       "      <td>2019-12-01</td>\n",
       "      <td>E09000033</td>\n",
       "      <td>9.609431e+05</td>\n",
       "      <td>0.005944</td>\n",
       "    </tr>\n",
       "    <tr>\n",
       "      <th>9724</th>\n",
       "      <td>Westminster</td>\n",
       "      <td>2020-01-01</td>\n",
       "      <td>E09000033</td>\n",
       "      <td>1.011645e+06</td>\n",
       "      <td>0.052763</td>\n",
       "    </tr>\n",
       "    <tr>\n",
       "      <th>9725</th>\n",
       "      <td>Westminster</td>\n",
       "      <td>2020-02-01</td>\n",
       "      <td>E09000033</td>\n",
       "      <td>1.016581e+06</td>\n",
       "      <td>0.004879</td>\n",
       "    </tr>\n",
       "    <tr>\n",
       "      <th>9726</th>\n",
       "      <td>Westminster</td>\n",
       "      <td>2020-03-01</td>\n",
       "      <td>E09000033</td>\n",
       "      <td>1.013977e+06</td>\n",
       "      <td>-0.002562</td>\n",
       "    </tr>\n",
       "    <tr>\n",
       "      <th>9727</th>\n",
       "      <td>Westminster</td>\n",
       "      <td>2020-04-01</td>\n",
       "      <td>E09000033</td>\n",
       "      <td>1.034488e+06</td>\n",
       "      <td>0.020228</td>\n",
       "    </tr>\n",
       "  </tbody>\n",
       "</table>\n",
       "<p>9728 rows × 5 columns</p>\n",
       "</div>"
      ],
      "text/plain": [
       "          London_Borough      Month         ID  Average Price  percent_change\n",
       "0     Barking & Dagenham 1995-01-01  E09000002   5.046023e+04             NaN\n",
       "1     Barking & Dagenham 1995-02-01  E09000002   5.108578e+04        0.012397\n",
       "2     Barking & Dagenham 1995-03-01  E09000002   5.126897e+04        0.003586\n",
       "3     Barking & Dagenham 1995-04-01  E09000002   5.313351e+04        0.036368\n",
       "4     Barking & Dagenham 1995-05-01  E09000002   5.304225e+04       -0.001717\n",
       "...                  ...        ...        ...            ...             ...\n",
       "9723         Westminster 2019-12-01  E09000033   9.609431e+05        0.005944\n",
       "9724         Westminster 2020-01-01  E09000033   1.011645e+06        0.052763\n",
       "9725         Westminster 2020-02-01  E09000033   1.016581e+06        0.004879\n",
       "9726         Westminster 2020-03-01  E09000033   1.013977e+06       -0.002562\n",
       "9727         Westminster 2020-04-01  E09000033   1.034488e+06        0.020228\n",
       "\n",
       "[9728 rows x 5 columns]"
      ]
     },
     "execution_count": 77,
     "metadata": {},
     "output_type": "execute_result"
    }
   ],
   "source": [
    "properties_final"
   ]
  },
  {
   "cell_type": "code",
   "execution_count": 78,
   "metadata": {},
   "outputs": [],
   "source": [
    "def create_price_ratio(b_df):\n",
    "    return b_df[b_df.Month.dt.year == 1998]/b_df[b_df.Month.dt.year == 1998]"
   ]
  },
  {
   "cell_type": "code",
   "execution_count": 79,
   "metadata": {},
   "outputs": [
    {
     "data": {
      "text/plain": [
       "384"
      ]
     },
     "execution_count": 79,
     "metadata": {},
     "output_type": "execute_result"
    }
   ],
   "source": [
    "(properties_final.Month.dt.year == 2018).sum()"
   ]
  },
  {
   "cell_type": "code",
   "execution_count": 80,
   "metadata": {},
   "outputs": [],
   "source": [
    "properties_final['year'] = properties_final.Month.dt.year"
   ]
  },
  {
   "cell_type": "code",
   "execution_count": 81,
   "metadata": {},
   "outputs": [
    {
     "data": {
      "text/html": [
       "<div>\n",
       "<style scoped>\n",
       "    .dataframe tbody tr th:only-of-type {\n",
       "        vertical-align: middle;\n",
       "    }\n",
       "\n",
       "    .dataframe tbody tr th {\n",
       "        vertical-align: top;\n",
       "    }\n",
       "\n",
       "    .dataframe thead th {\n",
       "        text-align: right;\n",
       "    }\n",
       "</style>\n",
       "<table border=\"1\" class=\"dataframe\">\n",
       "  <thead>\n",
       "    <tr style=\"text-align: right;\">\n",
       "      <th></th>\n",
       "      <th>London_Borough</th>\n",
       "      <th>Month</th>\n",
       "      <th>ID</th>\n",
       "      <th>Average Price</th>\n",
       "      <th>percent_change</th>\n",
       "      <th>year</th>\n",
       "    </tr>\n",
       "  </thead>\n",
       "  <tbody>\n",
       "    <tr>\n",
       "      <th>0</th>\n",
       "      <td>Barking &amp; Dagenham</td>\n",
       "      <td>1995-01-01</td>\n",
       "      <td>E09000002</td>\n",
       "      <td>50460.22660</td>\n",
       "      <td>NaN</td>\n",
       "      <td>1995</td>\n",
       "    </tr>\n",
       "    <tr>\n",
       "      <th>1</th>\n",
       "      <td>Barking &amp; Dagenham</td>\n",
       "      <td>1995-02-01</td>\n",
       "      <td>E09000002</td>\n",
       "      <td>51085.77983</td>\n",
       "      <td>0.012397</td>\n",
       "      <td>1995</td>\n",
       "    </tr>\n",
       "    <tr>\n",
       "      <th>2</th>\n",
       "      <td>Barking &amp; Dagenham</td>\n",
       "      <td>1995-03-01</td>\n",
       "      <td>E09000002</td>\n",
       "      <td>51268.96956</td>\n",
       "      <td>0.003586</td>\n",
       "      <td>1995</td>\n",
       "    </tr>\n",
       "    <tr>\n",
       "      <th>3</th>\n",
       "      <td>Barking &amp; Dagenham</td>\n",
       "      <td>1995-04-01</td>\n",
       "      <td>E09000002</td>\n",
       "      <td>53133.50526</td>\n",
       "      <td>0.036368</td>\n",
       "      <td>1995</td>\n",
       "    </tr>\n",
       "    <tr>\n",
       "      <th>4</th>\n",
       "      <td>Barking &amp; Dagenham</td>\n",
       "      <td>1995-05-01</td>\n",
       "      <td>E09000002</td>\n",
       "      <td>53042.24852</td>\n",
       "      <td>-0.001717</td>\n",
       "      <td>1995</td>\n",
       "    </tr>\n",
       "  </tbody>\n",
       "</table>\n",
       "</div>"
      ],
      "text/plain": [
       "       London_Borough      Month         ID  Average Price  percent_change  \\\n",
       "0  Barking & Dagenham 1995-01-01  E09000002    50460.22660             NaN   \n",
       "1  Barking & Dagenham 1995-02-01  E09000002    51085.77983        0.012397   \n",
       "2  Barking & Dagenham 1995-03-01  E09000002    51268.96956        0.003586   \n",
       "3  Barking & Dagenham 1995-04-01  E09000002    53133.50526        0.036368   \n",
       "4  Barking & Dagenham 1995-05-01  E09000002    53042.24852       -0.001717   \n",
       "\n",
       "   year  \n",
       "0  1995  \n",
       "1  1995  \n",
       "2  1995  \n",
       "3  1995  \n",
       "4  1995  "
      ]
     },
     "execution_count": 81,
     "metadata": {},
     "output_type": "execute_result"
    }
   ],
   "source": [
    "properties_final.head() ()"
   ]
  },
  {
   "cell_type": "code",
   "execution_count": 99,
   "metadata": {},
   "outputs": [
    {
     "data": {
      "text/html": [
       "<div>\n",
       "<style scoped>\n",
       "    .dataframe tbody tr th:only-of-type {\n",
       "        vertical-align: middle;\n",
       "    }\n",
       "\n",
       "    .dataframe tbody tr th {\n",
       "        vertical-align: top;\n",
       "    }\n",
       "\n",
       "    .dataframe thead th {\n",
       "        text-align: right;\n",
       "    }\n",
       "</style>\n",
       "<table border=\"1\" class=\"dataframe\">\n",
       "  <thead>\n",
       "    <tr style=\"text-align: right;\">\n",
       "      <th></th>\n",
       "      <th></th>\n",
       "      <th>Average Price</th>\n",
       "      <th>percent_change</th>\n",
       "    </tr>\n",
       "    <tr>\n",
       "      <th>London_Borough</th>\n",
       "      <th>year</th>\n",
       "      <th></th>\n",
       "      <th></th>\n",
       "    </tr>\n",
       "  </thead>\n",
       "  <tbody>\n",
       "    <tr>\n",
       "      <th rowspan=\"5\" valign=\"top\">Barking &amp; Dagenham</th>\n",
       "      <th>1995</th>\n",
       "      <td>51817.969390</td>\n",
       "      <td>0.001001</td>\n",
       "    </tr>\n",
       "    <tr>\n",
       "      <th>1996</th>\n",
       "      <td>51718.192690</td>\n",
       "      <td>0.004713</td>\n",
       "    </tr>\n",
       "    <tr>\n",
       "      <th>1997</th>\n",
       "      <td>55974.262309</td>\n",
       "      <td>0.006270</td>\n",
       "    </tr>\n",
       "    <tr>\n",
       "      <th>1998</th>\n",
       "      <td>60285.821083</td>\n",
       "      <td>0.007568</td>\n",
       "    </tr>\n",
       "    <tr>\n",
       "      <th>1999</th>\n",
       "      <td>65320.934441</td>\n",
       "      <td>0.006773</td>\n",
       "    </tr>\n",
       "  </tbody>\n",
       "</table>\n",
       "</div>"
      ],
      "text/plain": [
       "                         Average Price  percent_change\n",
       "London_Borough     year                               \n",
       "Barking & Dagenham 1995   51817.969390        0.001001\n",
       "                   1996   51718.192690        0.004713\n",
       "                   1997   55974.262309        0.006270\n",
       "                   1998   60285.821083        0.007568\n",
       "                   1999   65320.934441        0.006773"
      ]
     },
     "execution_count": 99,
     "metadata": {},
     "output_type": "execute_result"
    }
   ],
   "source": [
    "price_year = properties_final.groupby(['London_Borough', 'year'])[['Average Price', 'percent_change']].mean()\n",
    "price_year.head()"
   ]
  },
  {
   "cell_type": "code",
   "execution_count": 100,
   "metadata": {},
   "outputs": [
    {
     "data": {
      "image/png": "[encoded data removed]",
      "text/plain": [
       "<Figure size 432x288 with 1 Axes>"
      ]
     },
     "metadata": {},
     "output_type": "display_data"
    }
   ],
   "source": []
  },
  {
   "cell_type": "code",
   "execution_count": 91,
   "metadata": {},
   "outputs": [
    {
     "data": {
      "text/plain": [
       "{'X': 'sum', 'Y': 'mean', 'Z': 'last'}"
      ]
     },
     "execution_count": 91,
     "metadata": {},
     "output_type": "execute_result"
    }
   ],
   "source": [
    "dict(X='sum', Y='mean', Z='last')"
   ]
  },
  {
   "cell_type": "markdown",
   "metadata": {
    "colab_type": "text",
    "id": "NzYUI7FxJpgv"
   },
   "source": [
    "### 4. Conclusion\n",
    "What can you conclude? Type out your conclusion below. \n",
    "\n",
    "Look back at your notebook. Think about how you might summarize what you have done, and prepare a quick presentation on it to your mentor at your next meeting. \n",
    "\n",
    "We hope you enjoyed this practical project. It should have consolidated your data hygiene and pandas skills by looking at a real-world problem involving just the kind of dataset you might encounter as a budding data scientist. Congratulations, and looking forward to seeing you at the next step in the course! "
   ]
  },
  {
   "cell_type": "code",
   "execution_count": 86,
   "metadata": {},
   "outputs": [
    {
     "data": {
      "text/plain": [
       "1"
      ]
     },
     "execution_count": 86,
     "metadata": {},
     "output_type": "execute_result"
    }
   ],
   "source": [
    "1"
   ]
  },
  {
   "cell_type": "code",
   "execution_count": 87,
   "metadata": {},
   "outputs": [
    {
     "name": "stdout",
     "output_type": "stream",
     "text": [
      "3\n"
     ]
    }
   ],
   "source": [
    "print(3)"
   ]
  },
  {
   "cell_type": "code",
   "execution_count": 88,
   "metadata": {},
   "outputs": [
    {
     "data": {
      "text/html": [
       "<div>\n",
       "<style scoped>\n",
       "    .dataframe tbody tr th:only-of-type {\n",
       "        vertical-align: middle;\n",
       "    }\n",
       "\n",
       "    .dataframe tbody tr th {\n",
       "        vertical-align: top;\n",
       "    }\n",
       "\n",
       "    .dataframe thead th {\n",
       "        text-align: right;\n",
       "    }\n",
       "</style>\n",
       "<table border=\"1\" class=\"dataframe\">\n",
       "  <thead>\n",
       "    <tr style=\"text-align: right;\">\n",
       "      <th></th>\n",
       "      <th>London_Borough</th>\n",
       "      <th>Month</th>\n",
       "      <th>ID</th>\n",
       "      <th>Average Price</th>\n",
       "      <th>percent_change</th>\n",
       "      <th>year</th>\n",
       "    </tr>\n",
       "  </thead>\n",
       "  <tbody>\n",
       "    <tr>\n",
       "      <th>0</th>\n",
       "      <td>Barking &amp; Dagenham</td>\n",
       "      <td>1995-01-01</td>\n",
       "      <td>E09000002</td>\n",
       "      <td>50460.22660</td>\n",
       "      <td>NaN</td>\n",
       "      <td>1995</td>\n",
       "    </tr>\n",
       "    <tr>\n",
       "      <th>1</th>\n",
       "      <td>Barking &amp; Dagenham</td>\n",
       "      <td>1995-02-01</td>\n",
       "      <td>E09000002</td>\n",
       "      <td>51085.77983</td>\n",
       "      <td>0.012397</td>\n",
       "      <td>1995</td>\n",
       "    </tr>\n",
       "    <tr>\n",
       "      <th>2</th>\n",
       "      <td>Barking &amp; Dagenham</td>\n",
       "      <td>1995-03-01</td>\n",
       "      <td>E09000002</td>\n",
       "      <td>51268.96956</td>\n",
       "      <td>0.003586</td>\n",
       "      <td>1995</td>\n",
       "    </tr>\n",
       "    <tr>\n",
       "      <th>3</th>\n",
       "      <td>Barking &amp; Dagenham</td>\n",
       "      <td>1995-04-01</td>\n",
       "      <td>E09000002</td>\n",
       "      <td>53133.50526</td>\n",
       "      <td>0.036368</td>\n",
       "      <td>1995</td>\n",
       "    </tr>\n",
       "    <tr>\n",
       "      <th>4</th>\n",
       "      <td>Barking &amp; Dagenham</td>\n",
       "      <td>1995-05-01</td>\n",
       "      <td>E09000002</td>\n",
       "      <td>53042.24852</td>\n",
       "      <td>-0.001717</td>\n",
       "      <td>1995</td>\n",
       "    </tr>\n",
       "  </tbody>\n",
       "</table>\n",
       "</div>"
      ],
      "text/plain": [
       "       London_Borough      Month         ID  Average Price  percent_change  \\\n",
       "0  Barking & Dagenham 1995-01-01  E09000002    50460.22660             NaN   \n",
       "1  Barking & Dagenham 1995-02-01  E09000002    51085.77983        0.012397   \n",
       "2  Barking & Dagenham 1995-03-01  E09000002    51268.96956        0.003586   \n",
       "3  Barking & Dagenham 1995-04-01  E09000002    53133.50526        0.036368   \n",
       "4  Barking & Dagenham 1995-05-01  E09000002    53042.24852       -0.001717   \n",
       "\n",
       "   year  \n",
       "0  1995  \n",
       "1  1995  \n",
       "2  1995  \n",
       "3  1995  \n",
       "4  1995  "
      ]
     },
     "execution_count": 88,
     "metadata": {},
     "output_type": "execute_result"
    }
   ],
   "source": [
    "properties_final.head()"
   ]
  },
  {
   "cell_type": "code",
   "execution_count": null,
   "metadata": {},
   "outputs": [],
   "source": []
  }
 ],
 "metadata": {
  "colab": {
   "collapsed_sections": [],
   "name": "Springboard Data Science Career Track Unit 4 Challenge - Tier 3 Complete .ipynb",
   "provenance": []
  },
  "kernelspec": {
   "display_name": "Python 3",
   "language": "python",
   "name": "python3"
  },
  "language_info": {
   "codemirror_mode": {
    "name": "ipython",
    "version": 3
   },
   "file_extension": ".py",
   "mimetype": "text/x-python",
   "name": "python",
   "nbconvert_exporter": "python",
   "pygments_lexer": "ipython3",
   "version": "3.7.6"
  }
 },
 "nbformat": 4,
 "nbformat_minor": 4
}
